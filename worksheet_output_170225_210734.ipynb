{
  "nbformat": 4,
  "nbformat_minor": 5,
  "metadata": {},
  "cells": [
    {
      "cell_type": "markdown",
      "source": "Imagine you're an intergalactic explorer on a quest to discover new planets! Your mission is to complete the code below by filling in the blanks (____) so that it creates a list of planet names, uses a for loop to travel across this list, and checks each planet with an if statement to determine if it is habitable. If a planet is habitable (its name starts with a vowel or matches a secret keyword), print a special welcome message; otherwise, indicate that the planet remains mysterious. Use the hints in the comments to help.",
      "metadata": {}
    },
    {
      "cell_type": "code",
      "source": [
        "# Define a list of planet names\n",
        "planet_list = ____  # e.g., ['Aldea', 'Bajor', 'Orion', 'Eden', 'Vulcan']\n",
        "\n",
        "# Define the secret habitable planet keyword\n",
        "secret_habitable = ____  # e.g., 'Eden'\n",
        "\n",
        "# Iterate over the list of planets\n",
        "for planet in ____:  # fill in with the planet_list variable\n",
        "    # Check if the planet is habitable by verifying: \n",
        "    # 1. The first character is a vowel OR 2. It matches the secret_habitable keyword\n",
        "    if planet[____].lower() in ['a', 'e', 'i', 'o', 'u'] or planet == ____:\n",
        "        print(\"Welcome to the habitable planet: \" + ____)\n",
        "    else:\n",
        "        print(\"Mystery planet: \" + ____)"
      ],
      "metadata": {}
    },
    {
      "cell_type": "markdown",
      "source": "Imagine embarking on a mysterious quest as a young detective in a magical castle filled with enchanted secrets! Your task is to complete the code below by filling in the blanks (____) so that it creates a list of mystical clues, uses a while loop to navigate through this list, and applies loop control statements to skip non-matching clues or break if a dangerous trap is encountered. Use the comments as hints.",
      "metadata": {}
    },
    {
      "cell_type": "code",
      "source": [
        "# Initialize a list of mystical clues found in the castle\n",
        "clue_list = ____  # e.g., ['whisper', 'secret', 'riddle', 'trap', 'illusion']\n",
        "\n",
        "# Define the hidden magical keyword that signifies an important clue\n",
        "hidden_keyword = ____  # e.g., 'secret'\n",
        "\n",
        "# Define the keyword that represents a dangerous trap in the castle\n",
        "danger_keyword = ____  # e.g., 'trap'\n",
        "\n",
        "# Set the starting index for the while loop\n",
        "i = ____  # e.g., 0\n",
        "\n",
        "# Traverse the list using a while loop\n",
        "while ____:  # Hint: use i and the length of clue_list\n",
        "    clue = clue_list[i]\n",
        "    \n",
        "    # If a dangerous trap is found, exit the loop immediately\n",
        "    if clue == ____:\n",
        "        ____  # Hint: break out of the loop\n",
        "        \n",
        "    # If the current clue doesn't match the hidden magical keyword, skip to the next clue\n",
        "    if clue != ____:\n",
        "        i += ____  # increment index to examine the next clue\n",
        "        ____  # Hint: use the appropriate loop control statement to continue\n",
        "        \n",
        "    # If the clue matches the hidden magical keyword, print a special message\n",
        "    print(\"Magical secret uncovered: \" + ____)  # Hint: append the current clue\n",
        "    \n",
        "    # Increment the index at the end of the loop\n",
        "    i += ____  # ensure the loop moves to the next index"
      ],
      "metadata": {}
    },
    {
      "cell_type": "markdown",
      "source": "Imagine yourself as a cunning secret agent on a mission to crack a mysterious code hidden in a century-old diary! Your task is to complete the function below, filling in the blanks (____) so that the function `decrypt_message` takes in a coded string, processes it by reversing and shifting each character, and returns the true (decrypted) message. Use the hints in the comments to guide you through the function definition, handling function arguments, and returning values.",
      "metadata": {}
    },
    {
      "cell_type": "code",
      "source": [
        "# Define the function to decrypt the coded message\n",
        "def decrypt_message(____):  # Hint: the parameter should represent the coded message string\n",
        "    \n",
        "    # Step 1: Reverse the coded string to hint at a reversing cipher\n",
        "    reversed_msg = ____  # Hint: use slicing to reverse the string, e.g., parameter[::-1]\n",
        "    \n",
        "    # Step 2: Define a shift value for decrypting each character (e.g., a simple Caesar cipher shift)\n",
        "    shift_value = ____  # Hint: choose a numerical value, e.g., 3\n",
        "    \n",
        "    # Step 3: Process each character in the reversed message by shifting its ASCII code\n",
        "    decrypted_chars = []\n",
        "    for char in ____:  # Hint: iterate over the reversed message\n",
        "        # Shift the character by subtracting the shift_value\n",
        "        decrypted_chars.append(chr(ord(char) - ____))  # Hint: subtract shift_value from ord(char)\n",
        "    \n",
        "    # Step 4: Join the list of decrypted characters to form the final message\n",
        "    decrypted_message = ____  # Hint: use ''.join() to combine the list into a string\n",
        "    \n",
        "    # Return the decrypted message\n",
        "    return ____  # Hint: return the variable that holds the decrypted message"
      ],
      "metadata": {}
    },
    {
      "cell_type": "markdown",
      "source": "Step into a realm of magic and mystery! Your task is to complete the code below by filling in the blanks (____). First, create a base class `Mystic` with attributes `name` and `powerLevel`, and a method `perform_magic` that describes its magical abilities. Then, create a subclass `Wizard` inheriting from `Mystic` that includes an additional attribute (e.g., `wand`) and a method `cast_spell` to demonstrate a special spell. Use the comments as hints and ensure you include at least 4-5 meaningful blanks in the code.",
      "metadata": {}
    },
    {
      "cell_type": "code",
      "source": [
        "# Define the base class Mystic\n",
        "class Mystic:\n",
        "    def __init__(self, name, powerLevel):\n",
        "        self.____ = ____  # Hint: assign the name attribute\n",
        "        self.____ = ____  # Hint: assign the powerLevel attribute\n",
        "\n",
        "    def perform_magic(self):\n",
        "        # Print a message showcasing the character's magic\n",
        "        print(\"Mystic \" + ____ + \" demonstrates a power level of \" + str(____))  # Use appropriate attributes\n",
        "\n",
        "# Define the subclass Wizard that inherits from Mystic\n",
        "class Wizard(____):  # Hint: inherit from the appropriate base class\n",
        "    def __init__(self, name, powerLevel, wand):\n",
        "        # Initialize attributes from the base class\n",
        "        super(____, self).__init__(name, powerLevel)  # Hint: call the superclass initializer\n",
        "        self.____ = ____  # Hint: assign the wand attribute\n",
        "\n",
        "    def cast_spell(self):\n",
        "        # Print a message that shows the wizard casting a spell using their wand and power level\n",
        "        print(\"Wizard \" + ____ + \" casts a spell with the \" + ____ + \"! Power level: \" + str(____))  # Fill in with the corresponding attributes\n"
      ],
      "metadata": {}
    },
    {
      "cell_type": "markdown",
      "source": "Imagine hosting an interstellar game show where every contestant holds a secret! Your mission is to complete the code below by filling in the blanks (____) so that it initializes a list of contestants (each as a tuple with a name and a unique identifier), uses a for loop to traverse the list, computes a secret score using a creative formula, and stores the result in a dictionary mapping each contestant\u2019s name to their secret score. Use the hints in the comments to help you fill in the correct values.",
      "metadata": {}
    },
    {
      "cell_type": "code",
      "source": [
        "# Initialize a list of contestants, each represented as a tuple (name, unique_id)\n",
        "contestants = ____  # For example: [('Alice', 23), ('Bob', 15), ('Charlie', 31)]\n",
        "\n",
        "# Initialize an empty dictionary to store each contestant's secret score\n",
        "secret_scores = ____  # Hint: use a dictionary literal\n",
        "\n",
        "# Traverse the list using a for loop\n",
        "for contestant in ____:  # Hint: iterate over the 'contestants' list\n",
        "    # Unpack the tuple into 'name' and 'unique_id'\n",
        "    name, unique_id = ____  # Hint: unpack the tuple 'contestant'\n",
        "    \n",
        "    # Calculate the secret score using a creative formula\n",
        "    # Example formula: multiply the unique_id by a factor and add the length of the name\n",
        "    score = unique_id * ____ + len(____)  # Fill in: factor (e.g., 2) and use 'name' to find its length\n",
        "    \n",
        "    # Map the contestant's name to their secret score in the dictionary\n",
        "    secret_scores[____] = score  # Hint: use the variable that stores the contestant's name\n",
        "    \n",
        "# Print the dictionary of secret scores\n",
        "print(secret_scores)"
      ],
      "metadata": {}
    }
  ]
}