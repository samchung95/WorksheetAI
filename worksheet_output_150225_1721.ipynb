{
  "nbformat": 4,
  "nbformat_minor": 5,
  "metadata": {},
  "cells": [
    {
      "cell_type": "markdown",
      "source": "Fill in the blanks in the code below to complete a point counter for a classroom scavenger hunt. The goal is to use arithmetic operators, assignment operators, and if statements to update the score and determine a win. Replace each ____ with the correct value or operator based on the hints in the comments.",
      "metadata": {}
    },
    {
      "cell_type": "code",
      "source": "# Initialize variables\npoints_per_clue = ____    # e.g., use a positive integer like 10\ntotal_points = ____       # usually start with 0\nwinning_threshold = ____  # e.g., a winning score like 50\n\n# Calculate points for individual clues using arithmetic operations\nbonus_multiplier = 2\nclue1_points = points_per_clue ____ 5         # Use an arithmetic operator to add bonus points\nclue2_points = points_per_clue ____ bonus_multiplier  # Use an arithmetic operator for bonus multiplication\n\n# Update total points using assignment operators\ntotal_points ____ clue1_points    # e.g., update total using +=\ntotal_points ____ clue2_points    # e.g., update total using +=\n\n# Deduct penalty points for a mistake (if any) using assignment operators\npenalty = ____                   # e.g., a number like 3\ntotal_points ____ penalty         # e.g., using a subtraction assignment (like -=)\n\n# Check if the team has met the winning threshold using an if statement\nif total_points ____ winning_threshold:  # e.g., use a comparison operator like >=\n    print(\"Congratulations! Your team wins!\")\nelse:\n    print(\"Keep playing and look for more clues!\")\n\n# Hints:\n# - For arithmetic operations, consider using + for addition and * for multiplication.\n# - For updating variables, use assignment operators such as += or -=.\n# - In the if condition, ensure the logic correctly checks if total_points is at least the winning_threshold.",
      "metadata": {}
    },
    {
      "cell_type": "markdown",
      "source": "Fill in the blanks in the Python code below to complete your magical number kingdom quest. In this quest, you process a list of secret numbers: for each number, if it is even, add its value to your treasure chest; if it is odd, subtract its value. Use your understanding of for loops, if statements, and arithmetic operators to complete the code.",
      "metadata": {}
    },
    {
      "cell_type": "code",
      "source": "# Initialize the treasure chest with a starting value (hint: usually zero)\ntreasure = ____\n\n# Define the list of secret numbers (e.g., [__, __, __, ...]) for your quest\nsecret_numbers = ____\n\n# Use a for loop to inspect each secret number one by one\nfor ____ in secret_numbers:\n    # Use an if statement to check if the current number is even\n    if ____ % 2 == ____:  # Hint: Even numbers give a remainder of zero when divided by 2\n        # For even numbers, add the number to the treasure chest using the addition operator\n        treasure = treasure ____ ____\n    else:\n        # For odd numbers, subtract the number from the treasure chest using the subtraction operator\n        treasure = treasure ____ ____\n\n# Print the final treasure amount after processing all secret numbers\nprint(\"Final treasure amount is:\", ____)\n",
      "metadata": {}
    },
    {
      "cell_type": "markdown",
      "source": "## Treasure Hunt Game Challenge\n\nDesign a simple treasure hunt game where your score changes based on hidden clues. Begin by initializing a variable `score` using an assignment operator. Then, using an if statement combined with logical operators, check whether your score is within a certain range to unlock a bonus round. If your score is between a minimum and maximum threshold, adjust your `score` by either adding bonus points. Otherwise, subtract bonus points as a penalty. Fill in the blanks (indicated by `____`) to complete the game logic. Hints are provided in comments.",
      "metadata": {}
    },
    {
      "cell_type": "code",
      "source": "# Initialize variables using assignment operators\nscore = ____       # e.g., starting score like 10\nmin_threshold = ____  # e.g., minimum threshold, e.g., 5\nmax_threshold = ____  # e.g., maximum threshold, e.g., 15\nbonus_points = ____   # e.g., bonus points value, e.g., 3\n\n# Check if the score is within the bonus range using an if statement and logical operators\nif score ____ min_threshold and score ____ max_threshold:  # fill in the appropriate comparison operators\n    score ____ bonus_points  # Use an assignment operator to update score (e.g., += for bonus addition)\n    print(\"Bonus round unlocked!\")\nelse:\n    score ____ bonus_points  # Use an assignment operator to update score (e.g., -= for penalty deduction)\n    print(\"No bonus round. Adjust your strategy!\")\n\n# Explain your logic in comments: \n# 1. First, assign initial values to score and thresholds.\n# 2. Use the 'and' operator to ensure the score is within both limits.\n# 3. Update the score based on the condition using the appropriate assignment operator.",
      "metadata": {}
    },
    {
      "cell_type": "markdown",
      "source": "Fill in the blanks (denoted by ____) to complete the following Python program. The program simulates running a small lemonade stand with a set budget. You'll use arithmetic operators to calculate the total cost based on the cost of lemons, sugar, and water, then comparison operators to check if the total cost is within your budget, and finally if statements to decide what message to print.",
      "metadata": {}
    },
    {
      "cell_type": "code",
      "source": "# Define the cost per unit for lemons, sugar, and water\n# (e.g., cost per lemon, per sugar unit, per liter of water) - use appropriate numeric values\ncost_lemons = ____  # e.g., 0.5\ncost_sugar = ____   # e.g., 0.3\ncost_water = ____   # e.g., 0.1\n\n# Define the quantity needed for each ingredient\nnum_lemons = ____   # e.g., number of lemons required\nnum_sugar = ____    # e.g., number of sugar units required\nnum_water = ____    # e.g., amount of water in liters\n\n# Calculate the total cost with arithmetic operators\n# Use multiplication for cost calculation and addition to sum the costs\ntotal_cost = (____ * ____) + (____ * ____) + (____ * ____)  # Multiply cost by quantity for each ingredient\n\n# Define your budget\nbudget = ____  # e.g., total available money\n\n# Use a comparison operator to check if the total cost is within the budget\nif total_cost ____ budget:  # Fill in with the correct operator (e.g., <=)\n    # If cost is within budget, print a success message\n    print(\"You have enough money! Enjoy your lemonade and celebrate your purchase!\")\nelse:\n    # Otherwise, suggest rethinking the plan\n    print(\"Budget exceeded! Consider saving more money or reducing the cost.\")\n\n# Hints:\n# - Think about how to calculate total cost using both multiplication and addition.\n# - Decide which comparison operator will correctly check if total_cost is less than or equal to the budget.\n# - Make sure you fill in all the blanks to reflect the logic described above.",
      "metadata": {}
    },
    {
      "cell_type": "markdown",
      "source": "### Question 1: Assignment Operators\n\nIn a treasure hunt simulation, the player's score is updated as treasures are collected. Fill in the blanks (____) to correctly initialize values and update the score using assignment operators.",
      "metadata": {}
    },
    {
      "cell_type": "code",
      "source": "# Initialize player's score and treasure value\nscore = ____  # e.g., starting score\n\ntreasure_value = ____  # e.g., value of one treasure\n\n# When a treasure is collected, update the score using an assignment operator\nscore ____ treasure_value  # Hint: which operator adds and assigns?\n\n# Simulate a level bonus addition\nbonus = ____  # e.g., bonus points\nscore ____ bonus  # Hint: use an assignment operator for addition\n\n# Optionally, adjust score with a penalty\npenalty = ____  # e.g., penalty points\nscore ____ penalty  # Hint: which operator subtracts and assigns?",
      "metadata": {}
    },
    {
      "cell_type": "markdown",
      "source": "### Question 2: Nested Loops\n\nConsider a 2D grid representing different cells in the treasure hunt game (e.g., obstacles, treasure, empty cells). Use nested loops to traverse the grid. Fill in the blanks (____) to correctly define the grid dimensions and loop structure.",
      "metadata": {}
    },
    {
      "cell_type": "code",
      "source": "# Define a sample grid for the game\n# 'T' denotes treasure, 'O' an obstacle, and 'E' an empty cell\ngrid = [\n    [____, ____, ____],  # Row 0\n    [____, ____, ____],  # Row 1\n    [____, ____, ____]   # Row 2\n]\n\n# Use nested loops to iterate through the grid\nfor row in range(____):  # Hint: number of rows\n    for col in range(____):  # Hint: number of columns\n        cell = grid[row][col]\n        # Check the type of cell and print a message if treasure is found\n        if cell == ____:  # Hint: fill in the symbol for treasure\n            print('Treasure found at position (', row, ',', col, ')')\n        # You may add more logic to handle obstacles and empty cells using additional conditions",
      "metadata": {}
    },
    {
      "cell_type": "markdown",
      "source": "### Question 3: Loop Control Statements (break, continue, pass)\n\nIn this simulation, different loop control statements determine the flow of gameplay. Fill in the blanks (____) to correctly incorporate 'break', 'continue', and 'pass' for handling rare treasures, obstacles, and inactive cells respectively.",
      "metadata": {}
    },
    {
      "cell_type": "code",
      "source": "# Simulate level exploration in the treasure hunt game\nlevels = ____  # Hint: total number of levels (e.g., 3)\n\nfor level in range(____):  # Fill in with the number of levels\n    print('Exploring Level', level)\n\n    # Simulate cell exploration within a level\n    for cell in range(____):  # Hint: number of cells per level (e.g., 5)\n        # If a rare treasure is found, break out of the cell loop immediately\n        if cell == ____:  # Fill in condition for rare treasure (e.g., a specific cell index)\n            print('Rare treasure found! Exiting current level.')\n            ____  # Use break to exit the loop\n        # If an obstacle is encountered, skip to the next cell\n        elif cell == ____:  # Fill in condition for obstacle (e.g., a specific cell index)\n            ____  # Use continue to skip further processing of this cell\n        # For inactive cells where no event occurs, do nothing special\n        else:\n            ____  # Use pass as a placeholder\n    # End of level exploration; additional logic can be added here if needed",
      "metadata": {}
    },
    {
      "cell_type": "markdown",
      "source": "Complete the following Python code to calculate the total revenue for a cupcake shop. You must use arithmetic operators to compute the cost of each batch (multiplying the number of cupcakes by their price), assignment operators to update the total revenue, and a for loop to iterate over the list of cupcake batches sold during the day. Remember to handle cases like batches with zero cupcakes. Fill in the blanks indicated by `____`.",
      "metadata": {}
    },
    {
      "cell_type": "code",
      "source": "# Initialize variables for cupcake shop revenue calculation\n# Hint: Start total_revenue at 0\ntotal_revenue = ____  \n\n# Hint: Assign a value to the price per cupcake (e.g., 2.5)\nprice_per_cupcake = ____  \n\n# Hint: Create a list of batch sizes (e.g., [10, 5, 0, 8])\ncupcake_batches = ____  \n\n# Process each cupcake batch using a for loop\nfor batch in ____:  # Hint: iterate over cupcake_batches\n    # Calculate revenue for the current batch (number of cupcakes * price per cupcake)\n    batch_revenue = ____ * ____  \n    \n    # Update total revenue using an assignment operator (e.g., +=)\n    total_revenue ____ ____  \n\n# Output the total revenue for the day\nprint(\"Total revenue: \", ____)",
      "metadata": {}
    },
    {
      "cell_type": "markdown",
      "source": "Fill in the blanks in the following Python code to simulate your daily routine as the caretaker of a magical garden, where you use for loops and assignment operators to adjust water and magic fertilizer levels for each enchanted plant in the list.",
      "metadata": {}
    },
    {
      "cell_type": "code",
      "source": [
        "# List of enchanted plants with their current water and magic fertilizer levels\n",
        "plants = [\n",
        "    {\"name\": \"Rose\", \"water\": 5, \"magic\": 2},\n",
        "    {\"name\": \"Tulip\", \"water\": 8, \"magic\": 4}\n",
        "]\n",
        "\n",
        "for plant in plants:\n",
        "    # If water level is below a certain threshold, add water\n",
        "    if plant[\"water\"] < ____:  # Enter threshold (e.g., 6)\n",
        "        plant[\"water\"] ____= ____  # Use '+=' operator to add water (e.g., plant[\"water\"] += 3)\n",
        "    # If water level is above a certain threshold, subtract water\n",
        "    elif plant[\"water\"] > ____:  # Enter threshold (e.g., 10)\n",
        "        plant[\"water\"] ____= ____  # Use '-=' operator to decrease water (e.g., plant[\"water\"] -= 2)\n",
        "    \n",
        "    # Adjust magic fertilizer by adding a fixed amount\n",
        "    plant[\"magic\"] ____= ____  # Use '+=' operator to add magic fertilizer (e.g., plant[\"magic\"] += 1)\n",
        "    \n",
        "    # Print out the updated status of the plant\n",
        "    print(\"Plant ____: Water =\", plant[\"water\"], \"Magic =\", plant[\"magic\"])  # Fill in plant identifier if needed"
      ],
      "metadata": {}
    },
    {
      "cell_type": "markdown",
      "source": "Imagine you're designing a treasure-hunting game! Use arithmetic operators, if statements, and for loops to calculate the total coins in each treasure chest and trigger bonus rounds. Fill in the blanks (____) in the code below to complete the program.",
      "metadata": {}
    },
    {
      "cell_type": "code",
      "source": "# Define a list of treasure chests where each number represents the coins in a chest\n# Replace the blanks with appropriate integer values\ntreasure_chests = [____, ____, ____, ____]\n\n# Iterate over each chest using a for loop\nfor chest in ____:  # Replace blank with the variable that holds the treasure chests\n    # Calculate bonus coins using an arithmetic operator; for example, doubling the coins could be a bonus\n    bonus = chest ____ 2  # Replace blank with an operator (e.g., *) to compute bonus coins\n    \n    # Compute total coins by adding the original coins and the bonus\n    total_coins = chest ____ bonus  # Replace blank with an operator (e.g., +) to sum the coins\n    \n    # If the chest contains more than 10 coins, unlock a bonus round\n    if chest ____ 10:  # Replace blank with a comparison operator (e.g., >) to check the condition\n        print(\"Bonus round unlocked for chest with\", chest, \"coins\")  # Hint: bonus condition met\n    else:\n        print(\"No bonus round for chest with\", chest, \"coins\")  # Hint: standard round\n\n# Note: Review each blank carefully and consider how arithmetic operators, if statements, and for loops work together.",
      "metadata": {}
    },
    {
      "cell_type": "markdown",
      "source": "Imagine you are asked to create a program that prints a fun and creative pattern (like a staircase or diamond shape) using loops. Fill in the blanks (represented by ____) in the code below to complete the program. Make sure to use a for loop to iterate over rows, nested loops for columns, and loop control statements (break/continue) to adjust the pattern. Add comments to explain why you use each type of loop and how the control statements help achieve the desired pattern.",
      "metadata": {}
    },
    {
      "cell_type": "code",
      "source": "# Fill in the blanks to complete the pattern printing program\n\n# Outer loop to control the number of rows in the pattern\nfor ____ in range(____):  # ____: loop variable; ____: total number of rows\n    \n    # Inner loop to add spaces for proper alignment (e.g., for a diamond or staircase)\n    for ____ in range(____):  # ____: calculate how many spaces to print based on current row\n        print(' ', end='')\n    \n    # Another inner loop to print the pattern characters (e.g., stars)\n    for ____ in range(____):  # ____: determine number of stars/pattern characters per row\n        # Conditional control: for example, skip printing a star under a certain condition using break or continue\n        if ____:  # ____: condition to trigger loop control (e.g., if a limit is reached)\n            ____  # ____: use a loop control statement (break or continue) as needed\n        print('*', end='')\n    \n    # Move to the next line after finishing the current row\n    print()\n\n# Hints: \n# - Modify the range values in the outer and inner loops to control the pattern shape.\n# - Experiment with both 'break' and 'continue' in the control flow to see how they alter the pattern output.\n# - Think about how the number of spaces and stars change in each iteration to form the desired design.",
      "metadata": {}
    },
    {
      "cell_type": "markdown",
      "source": "### Magical Candy Store Adventure\nFill in the blanks (indicated by `____`) in the Python code below.\n\nIn this creative scenario, you are in a magical candy store. Each candy type has a unique price. Your task is to:\n\n1. Use arithmetic operators to calculate the total cost of several candies.\n2. Use comparison operators to check if your saved money is enough to purchase them.\n3. Use logical operators to determine if you can buy all the candies, possibly applying a bonus discount.\n\nComplete the code by filling in the blanks with proper Python expressions and operators.",
      "metadata": {}
    },
    {
      "cell_type": "code",
      "source": "# Define candy prices for different magical candies\ncandy1_price = ____  # e.g., price of Chocolate Fairy (float value)\ncandy2_price = ____  # e.g., price of Gummy Genie (float value)\ncandy3_price = ____  # e.g., price of Lollipop Luminary (float value)\n\n# Calculate the total cost using arithmetic operators\n# Use addition between the prices\ntotal_cost = candy1_price ____ candy2_price ____ candy3_price  \n\n# Define your saved money in the magical wallet\nsaved_money = ____  # e.g., total money available\n\n# Check if your saved money is enough using a comparison operator (>=)\ncan_afford = saved_money ____ total_cost  \n\n# Determine if you can buy all candies with a potential bonus discount\n# The bonus discount could be applied if a specific condition is met (e.g., a special event)\nbonus_discount = ____  # e.g., use a Boolean value (True/False)\n\n# Combine conditions using a logical operator\n# Example: You can purchase if you have enough money AND the bonus discount condition is met\ncan_buy_all = can_afford ____ bonus_discount  \n\n# Print the results\nprint(\"Total cost of candies:\", total_cost)\nprint(\"Can afford candies:\", can_afford)\nprint(\"Can buy all candies with discount if applicable:\", can_buy_all)\n\n# Hints:\n# - For arithmetic operations, try using '+' operators.\n# - For comparison, consider if saved_money is greater than or equal to total_cost.\n# - For logical operation, use 'and' to combine conditions.",
      "metadata": {}
    },
    {
      "cell_type": "markdown",
      "source": "## Python Fill-in-the-Blanks Worksheet\n\nImagine you are creating a simple game program where a player earns points over several rounds. In each round, the player collects coins and may hit obstacles, which affect the score. Use arithmetic operators to update the score, a for loop to simulate the rounds, and if statements to check if the player has reached a winning score. Fill in the blanks (indicated by ____ ) to complete the assignment.",
      "metadata": {}
    },
    {
      "cell_type": "code",
      "source": "# Initialize the player's score\nscore = ____  # Hint: Set the starting score, e.g., 0\n\n# Simulate multiple rounds of the game\nfor round in range(____):  # Hint: Define the total number of rounds\n    \n    # Points earned from collecting coins in the round\n    coins = ____  # Hint: Assign a value representing points earned from coins\n    \n    # Points lost due to hitting obstacles in the round\n    penalty = ____  # Hint: Assign a value representing penalty points\n    \n    # Update the score using arithmetic operators\n    # Replace the blanks with appropriate arithmetic operators (e.g., +, -)\n    score = score ____ coins ____ penalty\n    \n    # Check if the player's score meets or exceeds the winning threshold\n    if score ____ ____:  # Hint: Use a comparison operator and a threshold value (e.g., score >= target_score)\n         print(\"Congratulations, you win!\")\n    else:\n         print(\"Round\", round, \": Keep trying!\")\n\n# Write down the steps you would take to solve this problem and explain how arithmetic operators, for loops, and if statements contribute to your solution.",
      "metadata": {}
    },
    {
      "cell_type": "markdown",
      "source": "### Instructions for Answering\n\n1. Fill in all the blanks (____) in the code above.\n2. Make sure to choose appropriate values and operators so that the program simulates a game where the player can either win or try again based on their total score.\n3. After completing the code, write down the steps explaining how each subtopic (Arithmetic Operators, If Statements, For Loops) has been applied in your algorithm.\n\n*Note: Do not reveal the answers for the blanks, just use hints as comments if necessary.*",
      "metadata": {}
    },
    {
      "cell_type": "markdown",
      "source": "Imagine you are an apprentice in a magical kitchen where you need to brew a special potion. In the following Python program, fill in the missing parts (____) to complete the recipe. The blanks are placed in key logical spots to test your understanding of arithmetic operators, if statements, and for loops. Use hints in the comments if needed.",
      "metadata": {}
    },
    {
      "cell_type": "code",
      "source": "# Step 1: Calculate the exact amounts of ingredients using arithmetic operators\n# Fill in the blanks for the ingredient quantities \ningredient1 = ____   # e.g., 2\ningredient2 = ____   # e.g., 3\ningredient3 = ____   # e.g., 5\n# Compute the total amount using appropriate arithmetic operators (like +, -, etc.)\ntotal = ingredient1 ____ ingredient2 ____ ingredient3  # Use correct operators\n\n# Step 2: Check if the potion meets the magical requirement using an if statement\n# The potion is perfect if the total is greater than a secret number\nsecret_number = ____   # e.g., 10\nif total ____ secret_number:  # Use a relational operator (e.g., >)\n    print(\"The potion is perfect!\")\nelse:\n    print(\"The potion needs more magic!\")\n\n# Step 3: Simulate stirring the potion exactly 5 times using a for loop\n# Use a function to create an iterable that allows 5 iterations\nfor i in ____:  # Hint: use the range() function\n    print(\"Stirring the potion... (iteration\", i, \")\")\n\n# You can add further code or comments if necessary ____  # Optional extra blank for additional logic",
      "metadata": {}
    },
    {
      "cell_type": "markdown",
      "source": "Fill in the blanks in the code below to create a Python program that calculates the total number of tickets sold at a school festival and provides appropriate feedback based on performance thresholds.",
      "metadata": {}
    },
    {
      "cell_type": "code",
      "source": "# List of ticket sales for each class (sample data)\n___ticket_sales___ = [100, 150, 200, 120, 130]  # You can change these numbers\n\n# Initialize the total number of tickets sold\ntotal_tickets = 0\n\n# Use a for loop to iterate over each class's ticket sales\nfor sale in ____:\n    total_tickets = total_tickets ____ sale  # Hint: Use the arithmetic addition operator\n\n# Set a target for excellent sales\ntarget = ____  # Hint: Choose an appropriate numeric target\n\n# Print individual class performance\nfor index, sale in enumerate(___ticket_sales___):\n    print(\"Class \" + str(index + ____) + \" sold \" + str(____) + \" tickets\")  # Hint: Use index+1 and sale\n\n# Provide feedback based on the total number of tickets using if, elif, and else\nif total_tickets ____ target:\n    print(\"Excellent Sales!\")  # Excellent if above target\nelif total_tickets ____ target:\n    print(\"Good Job!\")  # Good if exactly meeting the target\nelse:\n    print(\"Needs Improvement\")  # Otherwise, if below the target\n\n# Print the final total for verification\nprint(\"Total tickets sold:\", total_tickets)\n\n# Write comments to explain the logic and your choice of threshold.",
      "metadata": {}
    },
    {
      "cell_type": "markdown",
      "source": "Imagine you are a detective in a digital mystery! In this challenge, you must write a simple program that uses arithmetic operators, comparison operators, and if statements to analyze clues\u2019 scores and decide your next move. Fill in the blanks (indicated by ____ in the code) to complete the puzzle.",
      "metadata": {}
    },
    {
      "cell_type": "markdown",
      "source": "Question 1: Arithmetic Operators\n\nFill in the blanks in the following code to calculate the clues\u2019 score using addition, subtraction, multiplication, and division.",
      "metadata": {}
    },
    {
      "cell_type": "code",
      "source": [
        "# Calculate clues' score using arithmetic operations\n",
        "score1 = 10\n",
        "score2 = 20\n",
        "\n",
        "# Use addition to combine scores\n",
        "addition = ____   # Hint: score1 + score2\n",
        "\n",
        "# Use subtraction to find the difference\n",
        "subtraction = ____   # Hint: score2 - score1\n",
        "\n",
        "# Use multiplication for bonus score\n",
        "multiplication = ____   # Hint: score1 * 2\n",
        "\n",
        "# Use division to adjust the bonus\n",
        "division = ____   # Hint: score2 / 2\n",
        "\n",
        "final_score = addition + subtraction + multiplication + division\n",
        "print('Final Score:', final_score)  # Final clue score"
      ],
      "metadata": {}
    },
    {
      "cell_type": "markdown",
      "source": "Question 2: Comparison Operators\n\nFill in the blanks to compare the clue scores using equality, greater than, and less than operators.",
      "metadata": {}
    },
    {
      "cell_type": "code",
      "source": [
        "# Compare clues' scores using comparison operators\n",
        "score_a = 50\n",
        "score_b = 50\n",
        "\n",
        "# Check if both clues have equal strength\n",
        "equality = ____    # Hint: score_a == score_b\n",
        "\n",
        "# Check if clue A is stronger than clue B\n",
        "greater = ____     # Hint: score_a > score_b\n",
        "\n",
        "# Check if clue A is weaker than clue B\n",
        "less = ____        # Hint: score_a < score_b\n",
        "\n",
        "if equality:\n",
        "    print('The clues are evenly matched.')\n",
        "elif greater:\n",
        "    print('Clue A is dominant.')\n",
        "elif less:\n",
        "    print('Clue B is dominant.')\n",
        "else:\n",
        "    ____         # Hint: Use a fallback (e.g., print an error message)"
      ],
      "metadata": {}
    },
    {
      "cell_type": "markdown",
      "source": "Question 3: If Statements\n\nFill in the blanks to determine the detective's next action based on the mystery score, using if statements.",
      "metadata": {}
    },
    {
      "cell_type": "code",
      "source": [
        "# Determine next step based on clue's score using if statements\n",
        "mystery_score = ____   # Hint: Assign a numeric value representing the clue's strength\n",
        "threshold = ____       # Hint: Define a threshold value (e.g., 50)\n",
        "\n",
        "# If the mystery score is above the threshold, proceed with the interrogation\n",
        "if mystery_score ____ threshold:   # Hint: Use a comparison operator (e.g., > or >=)\n",
        "    action = 'Proceed to interrogate the suspect.'\n",
        "elif mystery_score ____ threshold:   # Hint: Use the opposite comparison (e.g., < or <=)\n",
        "    action = 'Re-examine the clues.'\n",
        "else:\n",
        "    action = 'Gather more evidence.'\n",
        "\n",
        "print('Action:', action)"
      ],
      "metadata": {}
    },
    {
      "cell_type": "markdown",
      "source": "Simulate an epic treasure hunt by writing a Python program that updates your coin count based on events (reward or penalty) using arithmetic operators, if statements, and assignment operators. Fill in the blanks (____) to complete the program.",
      "metadata": {}
    },
    {
      "cell_type": "code",
      "source": [
        "# Step 1: Initialize your coin count with a starting value\n",
        "coins = ____  # e.g., coins = 100\n",
        "\n",
        "# Step 2: Get the event type from the user; type should be 'reward' or 'penalty'\n",
        "event = input(\"Enter the event type (reward/penalty): ____\")\n",
        "\n",
        "# Step 3: Process the event using an if statement\n",
        "if event == \"reward\":\n",
        "    # For a reward, ask the user for the reward amount\n",
        "    reward = int(input(\"Enter reward amount: ____\"))\n",
        "    # Update the coin count using an arithmetic operator and an assignment operator\n",
        "    coins ____ reward  # Hint: use the += operator\n",
        "elif event == \"penalty\":\n",
        "    # For a penalty, ask the user for the penalty amount\n",
        "    penalty = int(input(\"Enter penalty amount: ____\"))\n",
        "    # Update the coin count using an arithmetic operator and an assignment operator\n",
        "    coins ____ penalty  # Hint: use the -= operator\n",
        "else:\n",
        "    print(\"Unknown event type!\")\n",
        "\n",
        "# Step 4: Check if your coin count is critically low (e.g., below a threshold)\n",
        "if coins < ____:  # Hint: choose an appropriate threshold value\n",
        "    print(\"Warning: Your coin count is very low!\")\n",
        "\n",
        "# Step 5: Display the final coin total\n",
        "print(\"Your coin total is:\", coins)"
      ],
      "metadata": {}
    },
    {
      "cell_type": "markdown",
      "source": "Imagine you're creating a secret code challenge game! In this game, you'll prepare a list of secret clues for the player to decode. The code uses a for loop to iterate over these clues, and if statements combined with logical operators to verify the player's guess against a registered answer. Fill in the blanks (____) to complete the code snippet. Hints are provided in comments.",
      "metadata": {}
    },
    {
      "cell_type": "code",
      "source": "# Fill in the blanks (____) below:\n\n# 1. Create a list of secret clues\n____ secret_clues = [\"The ancient key lies below.\", \"Echoes of the past hold the answer.\", \"Unlock the mystery with a single word.\"]\n\n# 2. Define the registered correct answer\n____ registered_answer = \"unlock\"\n\n# 3. Loop through each secret clue\nfor ____ in secret_clues:\n    # 4. Prepare a prompt using the current clue\n    ____ prompt = \"Decipher this clue: \" + ____\n    # 5. Get the player's guess (in a real game, consider using input())\n    user_input = input(prompt)\n    \n    # 6. Check if the guess is both correct and meets a condition (e.g., length at least 6 characters)\n    if user_input == registered_answer ____ len(user_input) >= ____:\n         # 7. If conditions are met, print a success message including the clue\n         print(\"Congratulations! You cracked the code for clue: \" + ____)\n    else:\n         # Hints: The answer must match exactly and be a sufficiently long word.\n         print(\"Incorrect. Try again with a hint: the key to the secret lies in the answer!\")\n",
      "metadata": {}
    },
    {
      "cell_type": "markdown",
      "source": "Fill in the blanks in the following Python code to complete a simple math puzzle game. Use arithmetic operations, if statements, and loop control statements (break and continue) appropriately. Your task is to fill in the correct operators, conditions, and keywords where '____' appears.",
      "metadata": {}
    },
    {
      "cell_type": "code",
      "source": [
        "# Initialize the score variable\n",
        "score = 0\n",
        "\n",
        "# Start an infinite loop to allow repeated attempts\n",
        "while ____:  # Hint: Use a constant boolean condition to create an infinite loop\n",
        "    \n",
        "    # Prompt the player with a math question; fill in the blank with the actual puzzle\n",
        "    player_answer = int(input(\"What is ____? \"))  # Hint: Replace ____ with the math expression description\n",
        "    \n",
        "    # Compute the correct result using arithmetic operators; each blank is a placeholder for an operator\n",
        "    # The intended operation: result = 3 + 5 * 2\n",
        "    result = 3 ____ 5 ____ 2  # Hint: Use '+' and '*' in the correct order\n",
        "    \n",
        "    # Check if the player's answer is correct using an if statement; fill in the comparison operator\n",
        "    if player_answer ____ result:  # Hint: Use the equality operator (==)\n",
        "        # If correct, update the score using an arithmetic operator (e.g., adding 10)\n",
        "        score = score ____ 10  # Hint: Use '+' to add points to the score\n",
        "        print(\"Correct! Your score is now:\", score)\n",
        "        \n",
        "        # Exit the loop since the correct answer has been given; fill in the blank\n",
        "        ____  # Hint: Use the appropriate loop control statement to exit the loop\n",
        "    else:\n",
        "        print(\"Incorrect, try again!\")\n",
        "        \n",
        "        # Continue to the next iteration if the answer is wrong; fill in the blank\n",
        "        ____  # Hint: Use the appropriate loop control statement to continue the loop\n"
      ],
      "metadata": {}
    },
    {
      "cell_type": "markdown",
      "source": "Fill in the blanks in the Python code below to calculate the total price of cookies in a magical bakery. Use arithmetic operators, assignment operators, and for loops to process a list of cookie batches.",
      "metadata": {}
    },
    {
      "cell_type": "code",
      "source": "# Magical Bakery Cookie Pricing Calculation\n\n# Here, we have a list of cookie batches (each number represents the count of cookies per batch).\n# Your task is to compute the total cost of all cookies by using arithmetic and assignment operators in a for loop.\n\n# Define the list of cookie batches (fill in the first batch count)\ncookie_batches = [____, 20, 30, 40, 50]  # Hint: Use an integer value\n\n# Define the fixed cost of one cookie (fill in the cost, e.g., 1.5)\ncookie_cost = ____  # Hint: Use a float value\n\ntotal_cost = 0\n\n# Process each batch to update the total cost\nfor ____ in cookie_batches:  # Hint: Choose a variable name that represents each batch\n    # Calculate the cost for the current batch (fill in the blank with the batch variable)\n    batch_price = ____ * cookie_cost  \n    \n    # Update total_cost using an assignment operator (fill in the blank with the proper operator)\n    total_cost ____ batch_price  \n\n# Finally, print the total cost (fill in the blank with the variable holding the total cost)\nprint(\"The total cost is:\", ____)",
      "metadata": {}
    },
    {
      "cell_type": "markdown",
      "source": "Fill in the blanks to compute the secret treasure number using arithmetic operators in this mystery challenge.",
      "metadata": {}
    },
    {
      "cell_type": "code",
      "source": "## Calculate the secret treasure code using arithmetic operations\n# Assign the initial values\nbase_value = ____        # e.g., the starting clue number\nmultiplier = ____        # e.g., the secret multiplier\nsubtractor = ____        # e.g., number to subtract as a decoy\nadder = ____             # e.g., number to add for final adjustment\n\n# Complete the operation chain with appropriate arithmetic operators\n# Hint: You might perform multiplication, subtraction, and addition in a nested operation\nsecret_code = ((base_value ____ multiplier) ____ subtractor) ____ adder\nprint(\"Treasure Code:\", secret_code)",
      "metadata": {}
    },
    {
      "cell_type": "markdown",
      "source": "Fill in the blanks to iterate over a mysterious list of clues using a for loop and display each clue with its index.",
      "metadata": {}
    },
    {
      "cell_type": "code",
      "source": "## Using for loops to reveal each clue in the treasure hunt\n# Define a list of mysterious clues\nclues = [____, ____, ____, ____]  # e.g., \"Map\", \"Key\", \"Compass\", \"Fingerprint\"\n\n# Iterate over the list with proper indexing\nfor ____ in ____(____(clues)):\n    # Print the index and corresponding clue\n    print(\"Clue\", ____, \":\", clues[____])",
      "metadata": {}
    },
    {
      "cell_type": "markdown",
      "source": "Fill in the blanks to analyze the secret clue and decide whether it leads to the treasure using if statements.",
      "metadata": {}
    },
    {
      "cell_type": "code",
      "source": "## Using if statements to evaluate the strength of a clue in the treasure hunt\n# Assign values for the clue, a threshold, and a modifier to adjust the clue's value\ntreasure_clue = ____      # e.g., the numeric value of the clue\nthreshold = ____          # e.g., minimum value needed to be a strong lead\nmodifier = ____           # e.g., an adjustment factor for the clue's value\n\n# Use a compound condition with fill-in-the-blanks relational operators\n# Hint: Combine the clue and modifier, then compare against the threshold\nif treasure_clue ____ modifier ____ threshold:\n    print(\"You've found a strong lead!\")\nelse:\n    print(\"This clue seems weak, keep searching!\")",
      "metadata": {}
    },
    {
      "cell_type": "markdown",
      "source": "### Treasure Hunt Adventure Fill-in-the-Blanks\n\nIn this challenge, you are tasked with completing a Python program that simulates a treasure hunt adventure game. Your mission is to fill in the blanks (indicated by `____`) in the code below to:\n\n1. Set up a list of coin values for 5 treasure chests using arithmetic operators.\n2. Iterate through each chest using a for loop, applying a bonus (addition) and a trap penalty (subtraction) to calculate the coins in that chest.\n3. Sum up all the coins and use an if statement to check if the final total exceeds a magic number.\n4. Print a special message if the total coins are high enough or an alternative message otherwise.\n\nRemember to use appropriate arithmetic operators, loop constructs, and conditionals. Good luck and enjoy coding your adventure!\n\n*(Hint: Think about where you might need to add or subtract values, and how to iterate over a fixed-size collection.)*",
      "metadata": {}
    },
    {
      "cell_type": "code",
      "source": "# Define the coins in 5 treasure chests (fill in with appropriate coin values)\n# Hint: Each blank should be replaced with a number that represents coins in a chest\n\ntreasure_chests = [____, ____, ____, ____, ____]\n\n# Initialize total coins count\n\ntotal_coins = 0\n\n# Iterate over each chest using a for loop (fill in the range for the number of chests)\n\nfor i in range(____):\n    # For each chest, calculate coins after adding a bonus and subtracting a trap penalty\n    # Use arithmetic operators for addition and subtraction\n    coins = treasure_chests[i] ____ 5    # Add a bonus of 5 coins (use the appropriate operator)\n    coins = coins ____ 1                 # Subtract a trap penalty of 1 coin (use the appropriate operator)\n    \n    # Update the total coins count\n    total_coins += coins\n\n# Check if the final total exceeds the magic number (fill in the relational operator)\n\nif total_coins ____ 50:\n    # If condition is met, print a congratulatory message (fill in the message text)\n    print(\"____\")\nelse:\n    # Otherwise, print an alternative message (fill in the message text)\n    print(\"____\")\n\n# Note: Replace each '____' with the correct code element to complete the program.",
      "metadata": {}
    }
  ]
}