{
  "nbformat": 4,
  "nbformat_minor": 5,
  "metadata": {},
  "cells": [
    {
      "cell_type": "markdown",
      "source": "Fill in the blanks in the following Python code to simulate the weekly sales in an ice cream store. In this simulation, each day you calculate the daily earnings by multiplying the number of ice creams sold by their price. Use arithmetic operators (addition, multiplication, etc.) and assignment operators (like +=) appropriately. Hints are provided in the comments. Replace the blanks (____) with the correct code.",
      "metadata": {}
    },
    {
      "cell_type": "code",
      "source": "# Ice Cream Store Weekly Sales Simulation\n\n# Fill in the blanks to complete the program\n\n# Set the price per ice cream\nice_cream_price = ____  # E.g., 2.5\n\n# Initialize total earnings for the week\ntotal_earnings = ____  # E.g., 0\n\n# Loop over 7 days (simulate a week)\nfor day in range(____):  # Replace ____ with the number of days in a week\n    # Simulate the number of ice creams sold in a day (this can be a constant value or generated randomly)\n    daily_sales = ____  # For example, assign a number like 20 or use a random generator\n    \n    # Calculate daily earnings using arithmetic operators\n    daily_earnings = daily_sales ____ ice_cream_price  # Replace ____ with the multiplication operator\n    \n    # Add the daily earnings to the total using an assignment operator\n    total_earnings ____ daily_earnings  # Replace ____ with the appropriate assignment operator\n    \n    print(\"Day\", day + 1, \"earnings:\", daily_earnings)\n\n# Display the total earnings for the week\nprint(\"Total weekly earnings:\", total_earnings)",
      "metadata": {}
    },
    {
      "cell_type": "markdown",
      "source": "Fill in the blanks in the following Python code to simulate the growth of a digital garden. In this simulation, each plant in a grid starts at a base height and grows by a fixed growth rate using nested loops and assignment operators. Hints are provided in the comments, and you must replace blanks (____) with the correct code.",
      "metadata": {}
    },
    {
      "cell_type": "code",
      "source": "# Digital Garden Growth Simulation\n\n# Initialize garden dimensions, base height, and growth rate\nrows = ____  # e.g., number of rows in your garden\ncols = ____  # e.g., number of columns in your garden\nbase_height = ____  # e.g., starting height for each plant\ngrowth_rate = ____  # e.g., growth value to add to each plant's height\n\n# Create the garden grid as a 2D list with initial base height\ngarden = [[____ for _ in range(____)] for _ in range(____)]  # Use base_height and proper dimensions\n\n# Update each plant's height using nested loops and an assignment operator\nfor i in range(____):  # Replace ____ with the variable for number of rows\n    for j in range(____):  # Replace ____ with the variable for number of columns\n        # Update the plant's height (use an assignment operator like += to add growth_rate)\n        garden[i][j] ____ growth_rate  # Replace ____ with the correct assignment operator\n\n# Display the updated garden grid\nfor row in garden:\n    print(row)\n",
      "metadata": {}
    },
    {
      "cell_type": "markdown",
      "source": "Fill in the blanks in the code below to simulate a treasure hunt clue counter. In this simulation, nested loops are used where the outer loop iterates through stations, and the inner loop checks for clues at each station, using an assignment operator (like +=) to update the total clues found. Replace each ____ with the correct code. Hints are provided in the comments.",
      "metadata": {}
    },
    {
      "cell_type": "code",
      "source": "# Treasure Hunt Clue Counter\n\n# Initialize the number of stations, number of clues per station, and the total clue count\nnum_stations = ____  # e.g., total number of stations (integer)\nclues_per_station = ____  # e.g., number of clues hidden at each station\ntotal_clues_found = ____  # e.g., initial count (usually 0)\n\n# Iterate through each station (outer loop)\nfor station in range(____):  # Replace ____ with the variable that represents number of stations\n    # Iterate through each clue at the current station (inner loop)\n    for clue in range(____):  # Replace ____ with the variable that represents clues per station\n        # Simulate whether a clue is found (e.g., a condition or direct assignment)\n        clue_found = ____  # e.g., this could be a boolean value or condition check\n        \n        # If the clue is found, update the total using an assignment operator\n        if clue_found:\n            total_clues_found ____ 1  # Replace ____ with the appropriate assignment operator to add 1\n    \n    print(\"Station\", station + 1, \"clues counted.\")\n\n# Display the total number of clues found during the treasure hunt\nprint(\"Total clues found:\", total_clues_found)",
      "metadata": {}
    },
    {
      "cell_type": "markdown",
      "source": "Fill in the blanks in the code below to simulate a treasure hunt coin counter. In this program, you use a list to store treasures, a for loop to iterate over them, and arithmetic operators to accumulate the total coins. Then, you decide if your treasure is 'small', 'big', or 'legendary' based on the total number of coins. Replace each ____ with the appropriate code or operator (hints are in the comments).",
      "metadata": {}
    },
    {
      "cell_type": "code",
      "source": "# Treasure Hunt Coin Counter\n\n# Define a list of treasures where each number represents coins in that treasure\n# Replace the blanks with actual integer values\ntreasures = [____, ____, ____]  # e.g., maybe 10, 20, 30\n\n# Initialize the total number of coins\ntotal_coins = ____  # Typically, start with 0\n\n# Iterate over the list of treasures and sum up the coins using an arithmetic operator\nfor coins in treasures:\n    total_coins = total_coins ____ coins  # Use the appropriate operator to add coins\n\n# Use conditionals to check the range of total_coins and print out a creative message\nif total_coins ____ 50:  # Replace ____ with the correct comparison operator (<)\n    print(\"Your treasure is small!\")\nelif total_coins ____ 50 and total_coins ____ 100:  # Fill in with >= and <= respectively\n    print(\"Your treasure is big!\")\nelse:\n    print(\"Your treasure is legendary!\")\n\n# End of program",
      "metadata": {}
    },
    {
      "cell_type": "markdown",
      "source": "Fill in the blanks in the code below to simulate exploring a maze in a treasure hunt game. In this simulation, each cell on the grid holds a point value that is updated using assignment operators when explored. Use nested loops to traverse the grid and loop control statements (like break and continue) to handle special conditions (e.g., when a treasure is found or a cell is skipped). Replace each `____` with the appropriate code or operator, following the hints in the comments.",
      "metadata": {}
    },
    {
      "cell_type": "code",
      "source": "# Maze Exploration Simulation\n\n# Define grid dimensions and point parameters\nrows = ____  # e.g., number of rows in the maze grid\ncols = ____  # e.g., number of columns in the maze grid\nbase_points = ____  # e.g., initial point value for each cell\nbonus_points = ____  # e.g., points to add when a cell is explored\ntarget_value = ____  # e.g., target point value to trigger a treasure condition\n\n# Initialize the maze grid as a 2D list filled with the base_points\nmaze_grid = [[____ for _ in range(____)] for _ in range(____)]  # Use base_points, rows, and cols\n\n# Traverse the grid using nested loops\nfor i in range(____):  # Loop over rows, replace ____ with the correct variable\n    for j in range(____):  # Loop over columns, replace ____ with the correct variable\n        # Update the cell by adding bonus points using an assignment operator (e.g., +=)\n        maze_grid[i][j] ____ bonus_points  # Replace ____ with the proper assignment operator\n        \n        # If the updated cell reaches the target value, it is considered a treasure - exit the inner loop\n        if maze_grid[i][j] ____ target_value:  # Replace ____ with the proper comparison operator (e.g., ==)\n            break  # Treasure found, exit the current row exploration\n        \n        # If the cell remains at its base value or below a certain threshold, skip processing for this cell\n        if maze_grid[i][j] ____ base_points:  # Replace ____ with the appropriate comparison (e.g., <= or <)\n            continue  # Skip further actions for non-interesting cells\n        \n        # Optionally, print or process the updated cell value\n        print(\"Cell (\", i, \",\", j, \") updated to\", maze_grid[i][j])\n    \n    # Optionally handle end-of-row tasks; use pass if no action is needed\n    else:\n        pass\n\n# End simulation: print the final maze grid\nprint(\"Final Maze Grid:\")\nfor row in maze_grid:\n    print(row)\n",
      "metadata": {}
    }
  ]
}