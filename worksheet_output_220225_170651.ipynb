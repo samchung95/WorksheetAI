{
  "nbformat": 4,
  "nbformat_minor": 5,
  "metadata": {},
  "cells": [
    {
      "cell_type": "markdown",
      "source": "Fill in the blanks in the following Python program to brew a magical potion at Hogwarts using for loops, logical operators, and lists. Use the blanks (____) to complete the code appropriately.",
      "metadata": {}
    },
    {
      "cell_type": "code",
      "source": "# Define a list of mystical ingredients\ningredients = [____, ____, ____, ____]  # e.g., 'Phoenix Feather', 'Basilisk Fang', 'Unicorn Horn', 'Dragon Scale'\n\n# Initialize an empty set for unique ingredients\npotion = set()\n\n# Traverse the ingredients list using a for loop\nfor ingredient in ____:\n    # Check if ingredient is compatible: contains 'Feather' or 'Horn' but not 'Fang'\n    if (____ in ingredient or ____ in ingredient) and ____ not in ingredient:\n        potion.add(____)  # Add the valid ingredient to the potion mix\n\n# Print an enchanting message summarizing the final potion recipe\nprint(\"At Hogwarts, the potion is brewed with: \" + ____)\n# Hint: You may want to convert the set to a list or sort it before printing for a better output, e.g., str(sorted(potion))",
      "metadata": {}
    },
    {
      "cell_type": "markdown",
      "source": "Fill in the blanks in the following Python program to help unlock the secret of the enchanted portrait at Hogwarts. Complete the function, while loop, and comparison operators appropriately using the blanks (____) in the code.",
      "metadata": {}
    },
    {
      "cell_type": "code",
      "source": "# Define a function to reveal the secret\n\ndef ____():  # Hint: The function name should be revealSecret\n    \n    # Read magical numbers from the bewitched scroll\n    magical_numbers = [____]  # Hint: Add a series of numbers, e.g., 7, 13, 21, 42\n    \n    # Set the cryptic threshold required to unlock the next clue\n    threshold = ____  # Hint: Choose a threshold value, e.g., 20\n    \n    index = 0\n    \n    # Use a while loop to iterate over the magical numbers\n    while index ____ len(magical_numbers):  # Hint: Use the proper comparison for looping\n        current_number = magical_numbers[index]\n        \n        # Compare the current number to the threshold using comparison operators\n        if current_number ____ threshold:  # Hint: Decide the condition, e.g., greater than\n            print(\"Professor Dumbledore: ____\")  # Hint: Provide a hint message, e.g., 'The path is revealed.'\n        \n        index = index + ____  # Hint: Typically increment by 1\n\n# Invoke the function to reveal the secret\n____()  # Hint: Call the function defined above",
      "metadata": {}
    },
    {
      "cell_type": "markdown",
      "source": "Fill in the blanks in the following Python program to create magical classes and objects at Hogwarts. The program defines a base class for magical creatures, uses inheritance to create a specialized subclass, and employs tuples for signature potion ingredients. Use the blanks (____) to complete the code.",
      "metadata": {}
    },
    {
      "cell_type": "code",
      "source": "# Define the base class for magical creatures\nclass ____:  # Hint: The class name should be MagicalCreature\n    def __init__(self, ____, ____):  # Hint: Parameters: name, magical_power\n        self.name = ____  # Hint: Assign the name attribute\n        self.magical_power = ____  # Hint: Assign the magical power attribute\n        \n    def display_info(self):\n        # Return a description of the creature with its magical power\n        return \"Creature: \" + self.name + \" with magical power of \" + str(____)  # Hint: Use the magical_power attribute\n\n\n# Define a subclass that represents a Dragon using inheritance from MagicalCreature\nclass ____ (____):  # Hint: Subclass name should be Dragon and inherit from MagicalCreature\n    def __init__(self, name, magical_power, ingredients):\n        # Initialize the base class attributes properly\n        super(____, ____).__init__(____, ____)  # Hint: Use super() with appropriate parameters\n        self.ingredients = ____  # Hint: Assign a tuple of potion ingredients (immutable list)\n    \n    def display_info(self):\n        # Create a mysterious report combining creature info and potion ingredients\n        base_info = super().display_info()\n        return base_info + \" | Signature Ingredients: \" + str(____)  # Hint: Show the tuple of ingredients\n\n\n# Create an instance of Dragon with a tuple for potion ingredients, e.g., ('Mandrake Root', 'Unicorn Hair')\ndragon_instance = ____(\"Smaug\", ____, (____, ____))  # Hint: Fill in the constructor call with a name, magical power value, and a tuple of two ingredients\n\n# Print a spellbinding report as if it were an excerpt from an ancient wizard's diary\nprint(\"Ancient Wizard's Diary Excerpt:\")\nprint(____.display_info())  # Hint: Call the display_info() method on the dragon_instance\n",
      "metadata": {}
    },
    {
      "cell_type": "markdown",
      "source": "Fill in the blanks in the following Python program to safely concoct an elixir based on a dictionary of rare magical ingredients and their mystical potencies. Use the blanks (____) to complete the code appropriately, employing if statements and loop control statements (break, continue, pass) to handle dangerous ingredients.",
      "metadata": {}
    },
    {
      "cell_type": "code",
      "source": "# Create a dictionary mapping magical ingredients to their mystical potencies\nmagical_inventory = {\n    'Unicorn Horn': ____,          # e.g., a potency value like 95\n    'Dragon Blood': ____,           # e.g., 90\n    'Basilisk Fang': ____,          # e.g., a low potency or dangerous value like 10\n    'Phoenix Feather': ____,        # e.g., 85\n    'Mermaid Tears': ____           # e.g., 80\n}\n\n# Set a danger threshold potency; ingredients below this value are considered perilous\ndanger_threshold = ____  # e.g., 50\n\n# Initialize an empty list to store safe ingredients for the potion\nbrewed_potion = []\n\n# Iterate over the magical inventory using a for loop\nfor ingredient, potency in magical_inventory.items():\n    # If the ingredient's potency is below the danger threshold, halt the brewing process\n    if potency ____ danger_threshold:  # Hint: Use an appropriate comparison operator (e.g., <)\n        print('Danger detected: Brewing halted due to', ingredient)\n        ____  # Hint: Use the break statement to exit the loop\n    # If the ingredient is Basilisk Fang, skip it to avoid calamity\n    elif ingredient == ____:  # Hint: Check for a dangerous ingredient by name\n        ____  # Hint: Use the continue statement to skip the current iteration\n    else:\n        brewed_potion.append(ingredient)\n        # Optionally, use pass if no operation is needed\n        ____\n\n# Print the final potion recipe as a list of safe ingredients\nprint('Final Potion Recipe:', brewed_potion)  # This simulates the enchanted elixir's report",
      "metadata": {}
    },
    {
      "cell_type": "markdown",
      "source": "Fill in the blanks in the following Python program to dynamically alter a turtle's path as it crafts an enchanted mural. The program uses assignment operators to update variables, and if-elif-else constructs to select colors and shapes based on runtime conditions. Use the blanks (____) to complete the code and bring magical artistry to life at Hogwarts.",
      "metadata": {}
    },
    {
      "cell_type": "code",
      "source": "# Import the turtle module for graphics\nimport turtle\n\n# Set up the drawing environment\nscreen = turtle.Screen()\npen = turtle.Turtle()\n\n# Initialize starting position and drawing parameters\nx = 0\nstep = ____  # Hint: e.g., start with 10\nangle = ____  # Hint: e.g., 90 degrees\n\n# Loop to draw multiple strokes creating an enchanted mural\nfor i in range(____):  # Hint: e.g., iterate 20 times\n    # Dynamically update the x-coordinate using an assignment operator\n    x ____ step  # Hint: use an operator like +=\n    \n    # Move the turtle to the new position; the y-coordinate remains constant (e.g., 0)\n    pen.goto(x, ____)  # Hint: fill in y, such as 0\n    \n    # Change the pen color based on the current x position using if-elif-else logic\n    if x ____ 50:  # Hint: condition like x < 50\n        pen.color(____)  # Hint: choose a color, e.g., 'red'\n    elif x ____ 100:  # Hint: condition like x < 100\n        pen.color(____)  # Hint: choose a color, e.g., 'blue'\n    else:\n        pen.color(____)  # Hint: choose a color, e.g., 'green'\n    \n    # Introduce magical effects by changing the turtle's shape conditionally\n    if i % ____ == 0:  # Hint: e.g., if i % 3 == 0\n        pen.shape(____)  # Hint: choose a shape, e.g., 'turtle'\n    else:\n        pen.shape(____)  # Hint: choose an alternative shape, e.g., 'arrow'\n    \n    # Gradually increase the step size with an assignment operator to add dynamic movement\n    step ____ 2  # Hint: use an operator like += to increment step\n\n# Complete the drawing and hold the window open\nturtle.done()",
      "metadata": {}
    },
    {
      "cell_type": "markdown",
      "source": "Fill in the blanks in the following Python program to simulate the roll of a bewitched dice, traverse a grid of arcane runes using nested loops, and collect unique magical symbols into a set. Use the blanks (____) to complete the code and unlock the secret diary entry from a wandering Hogwarts ghost.",
      "metadata": {}
    },
    {
      "cell_type": "code",
      "source": "# Import the random module\nimport random\n\n# Initialize an empty set to store unique magical symbols\nrune_set = set()\n\n# List of magical runes available at Hogwarts\n# Hint: Insert 5 different rune symbols, e.g., '\u2609', '\u2739', '\u2726', '\u2605', '\u263d'\nrunes = [____, ____, ____, ____, ____]\n\n# Define the dimensions of the runic grid\nrows = ____  # e.g., number of rows (like 4)\ncols = ____  # e.g., number of columns (like 4)\n\n# Traverse the grid using nested loops to simulate the enchanted board\nfor i in range(____):  # Loop over rows\n    for j in range(____):  # Loop over columns\n        # Simulate the roll of a bewitched dice with outcomes from 1 to 6\n        roll = random.randint(____, ____)  # e.g., from 1 to 6\n        \n        # If the roll meets the cryptic condition, reveal a secret rune\n        if roll ____ 4:  # Hint: use a comparison operator (e.g., >=)\n            # Randomly select a rune from the list\n            chosen_rune = random.choice(____)  # Hint: choose from the 'runes' list\n            \n            # Add the chosen rune to the set of unique symbols\n            rune_set.add(____)  # Hint: add the 'chosen_rune'\n        else:\n            # Skip to the next rune if condition is not met\n            continue\n\n# Output the cryptic diary entry describing the unique sequence of magical symbols\nprint(\"Ancient Diary Entry: The unique runic symbols are \" + str(____))  # Hint: use the rune_set variable\n",
      "metadata": {}
    },
    {
      "cell_type": "markdown",
      "source": "Fill in the blanks in the following Python program to craft an ancient incantation hidden deep in the Restricted Section. The function castSpell accepts magical ingredients as arguments, computes a magical potency score, and demonstrates variable scope and lifetime within and outside the function. Use the blanks (____) to ensure correct syntax and effective spellcasting.",
      "metadata": {}
    },
    {
      "cell_type": "code",
      "source": "# Global variable representing a magical multiplier for spells\nspell_multiplier = ____  # Hint: Choose an integer value, e.g., 2\n\n\n# Define the function castSpell which calculates a spell's potency\n\ndef castSpell(ingredients, backup_incantation):\n    # A local variable to adjust potency based on recent enchantments\n    local_modifier = ____  # Hint: e.g., initialize with 1\n    \n    # Initialize base potency\n    potency = 0\n    \n    # Check if essential ingredients are present\n    if 'Phoenix Feather' in ingredients and 'Unicorn Horn' in ingredients:\n        potency = ____  # Hint: Assign a high potency value, e.g., 100\n    else:\n        # If key ingredients are missing, use the backup incantation logic\n        potency = ____  # Hint: Assign a lower potency value, e.g., 50\n        print(\"Backup incantation activated: \" + backup_incantation)\n    \n    # Demonstrate local scope by printing the local modifier\n    print(\"Local modifier within castSpell:\", local_modifier)\n    \n    # Return the final potency adjusted by the global spell_multiplier\n    return potency * ____  # Hint: Multiply by the global spell_multiplier\n\n\n# A list of enchanted ingredients found in the Restricted Section\ningredients_list = [____, ____ , ____]  # Hint: e.g., include 'Phoenix Feather', 'Dragon Scale', 'Unicorn Horn'\n\n# A backup incantation to be used if required elements are missing\nbackup_magic = \"Lumos Maxima\"\n\n# Invoke the castSpell function and store the returned magical potency\nresult = castSpell(ingredients_list, ____ )  # Hint: Pass the backup_incantation variable\n\n# Demonstrate global scope: print the final result as an echo of Professor McGonagall's lecture\nprint(\"Professor McGonagall proclaims: The spell potency is\", ____ )  # Hint: Print the result variable",
      "metadata": {}
    },
    {
      "cell_type": "markdown",
      "source": "Fill in the blanks in the following Python script to simulate a legendary wizarding duel. Complete the code by using arithmetic operators to calculate duel scores, comparison operators to decide the winner, and import a standard library function to record the duel's start time. Use the blanks (____) appropriately.",
      "metadata": {}
    },
    {
      "cell_type": "code",
      "source": "# Import the necessary module from Python's Standard Library\nimport time\n\n# Define the base spell strength and bonus multipliers for each wizard\nwizard1_base_strength = ____   # Hint: e.g., 75\nwizard1_bonus = ____           # Hint: e.g., 25\nwizard2_base_strength = ____   # Hint: e.g., 80\nwizard2_bonus = ____           # Hint: e.g., 20\n\n# Calculate the duel scores using arithmetic operators (addition) to combine base strength and bonus\nwizard1_score = wizard1_base_strength ____ wizard1_bonus  # Hint: Use the '+' operator\nwizard2_score = wizard2_base_strength ____ wizard2_bonus  # Hint: Use the '+' operator\n\n# Record the duel start time using the time module\nduel_start = time.____()  # Hint: Use an appropriate function to get the current timestamp, e.g., time.time()\n\n# Determine the winner using comparison operators\nif wizard1_score ____ wizard2_score:  # Hint: Use '>' to check if wizard1_score is greater\n    result = \"Wizard 1 triumphs in the duel!\"\nelif wizard1_score ____ wizard2_score:  # Hint: Use '<' to check if wizard1_score is less\n    result = \"Wizard 2 prevails in the duel!\"\nelse:\n    result = \"The duel ends in a stalemate!\"\n\n# Output the duel results along with the recorded start time\nprint(\"Duel started at:\", duel_start)\nprint(result)\n",
      "metadata": {}
    },
    {
      "cell_type": "markdown",
      "source": "Fill in the blanks in the following Python program to simulate a magical inventory system hidden within the ancient ledger of Hogwarts. In this task, define a class for magical artifacts that encapsulates sensitive details (using appropriate encapsulation) and includes attributes and methods. Then, use the Pandas library to create a DataFrame representing the inventory with columns such as artifact name, magical potency, and hidden enchantments. Use the blanks (____) to complete the code.",
      "metadata": {}
    },
    {
      "cell_type": "code",
      "source": "# Import the necessary library\nimport pandas as pd\n\n# Define a class for Magical Artifacts with proper encapsulation\nclass MagicalArtifact:\n    def __init__(self, artifact_name, potency, hidden_enchantment):\n        self.artifact_name = artifact_name       # Public attribute\n        self.__potency = potency                  # Encapsulated attribute (private)\n        self.__hidden_enchantment = hidden_enchantment  # Encapsulated attribute (private)\n    \n    # Method to display artifact details (safeguarding sensitive data)\n    def display_artifact(self):\n        # Reveal only non-sensitive details and a hint of the secret\n        return f\"Artifact: {self.artifact_name}, Potency: {____}, Hidden Info: {____}\"  # Hint: Use self.__potency and self.__hidden_enchantment\n\n# Create several magical artifact instances as part of the enchanted ledger\nartifact1 = MagicalArtifact(____, ____, ____)  # Hint: e.g., 'Elder Wand', 100, 'Invisibility'\nartifact2 = MagicalArtifact(____, ____, ____)  # Hint: e.g., 'Philosopher Stone', 90, 'Eternal Life'\nartifact3 = MagicalArtifact(____, ____, ____)  # Hint: e.g., 'Sorcerer Stone', 85, 'Mystic Shield'\n\n# Prepare a list of all artifacts\nartifacts = [artifact1, artifact2, artifact3]\n\n# Construct a Pandas DataFrame to represent the magical inventory\ninventory_data = {\n    'Artifact Name': [artifact.artifact_name for artifact in artifacts],\n    'Magical Potency': [____ for artifact in artifacts],  # Hint: Extract the potency using proper method or property\n    'Hidden Enchantment': [____ for artifact in artifacts]  # Hint: Extract the hidden enchantment using a method if available\n}\ndf_inventory = pd.DataFrame(inventory_data)\n\n# Design a function to display the inventory as if it were a page from the Restricted Section\n\ndef print_inventory(df):\n    print(\"--- Enchanted Ledger Page ---\")\n    print(____)  # Hint: Print the DataFrame df\n\n# Invoke the function to output the magical inventory\nprint_inventory(____)  # Hint: Pass the dataframe variable created above",
      "metadata": {}
    },
    {
      "cell_type": "markdown",
      "source": "Fill in the blanks in the following Python program to simulate the mystical mixing of potion ingredients using NumPy and to visualize the potion's potency surges over time with Matplotlib. Use the blanks (____) to complete the code appropriately, leveraging external modules and plotting techniques to bring ancient alchemical formulas to life deep in the Forbidden Forest.",
      "metadata": {}
    },
    {
      "cell_type": "code",
      "source": "# Import the necessary modules for numerical operations and data visualization\nimport numpy as np\nimport matplotlib.pyplot as plt\n\n# Use NumPy to simulate the precise mixing ratios of rare mystical ingredients\nmixing_ratios = np.array([____, ____, ____, ____])  # Hint: e.g., 0.2, 0.3, 0.1, 0.4\n\n# Generate a series of time points to simulate the potion's reaction over a period\n# Use np.linspace to create an array from 0 to a final time with a number of sample points\ntime_points = np.linspace(0, ____, ____)  # Hint: e.g., 10 seconds, 100 points\n\n# Calculate the potion's potency over time\n# Combine a sine function to simulate surges and dip patterns with the overall mixing ratio sum\npotency = np.sin(____ * time_points) * np.sum(mixing_ratios) + ____  \n# Hint: Multiply time_points by a frequency factor (e.g., np.pi or 2*np.pi) and add a constant margin, e.g., 5\n\n# Create a vivid visualization of the potion's potency surges over time\nplt.figure(figsize=(____, ____))  # Hint: Provide dimensions, e.g., 8 and 4\nplt.plot(time_points, potency, color=____, linestyle=____)  # Hint: Choose a color (e.g., 'blue') and a linestyle (e.g., '--')\n\n# Add title and labels to simulate an enchanted report of the potion's performance\nplt.title('Potion Potency Over Time')\nplt.xlabel('Time (seconds)')\nplt.ylabel('Potency Level')\nplt.grid(True)\n\n# Display the mesmerizing plot\nplt.show()",
      "metadata": {}
    }
  ]
}