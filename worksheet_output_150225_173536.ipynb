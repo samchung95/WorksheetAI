{
  "nbformat": 4,
  "nbformat_minor": 5,
  "metadata": {},
  "cells": [
    {
      "cell_type": "markdown",
      "source": "Imagine you are a coding wizard in the mystical Bit Kingdom where numbers speak in binary! Your quest is to create a magical spell in the form of a lambda function that takes a secret binary number, flips every bit using a bitwise NOT, and then combines the result with the original number using a bitwise AND. Fill in the blanks (indicated by ____ ) to complete your incantation.",
      "metadata": {}
    },
    {
      "cell_type": "code",
      "source": "# Define the magical lambda spell using bitwise operations\n# 1. Write the lambda function (use 'lambda x:' syntax).\n# 2. In the function, first flip all bits of 'x' using ____ (bitwise NOT operator); \n#    then combine it with 'x' using ____ (bitwise AND operator).\n# 3. Fill in with a secret binary number (e.g., 0b101010) for the spell!\n\n# Create your secret incantation below by replacing the blanks:\nmagic_spell = ____  # Hint: define a lambda that takes x and returns (____x____ ____ x)\n\n# Provide a secret binary number (e.g., a binary literal) to test your spell\nsecret_number = ____  # Hint: use a binary literal like 0b101010\n\n# Cast the magical transformation by applying your lambda function\ntransformed_number = ____  # Hint: call magic_spell with secret_number\n\nprint(\"The transformed binary number is:\", transformed_number)  # Observe your spell's magic!",
      "metadata": {}
    },
    {
      "cell_type": "markdown",
      "source": "Imagine a futuristic school challenge where secret codes are hidden within arithmetic, lambda functions, and bitwise operations! In the following task, you're given a set of numbers representing secret codes. Your mission is to use arithmetic operators to derive a composite secret value from these numbers, then create a lambda function that applies a bitwise operation to that value in order to reveal a hidden pattern. Each blank (____) must be filled with the correct code to make the entire program work. Hints are provided in the comments, but make sure to think critically to complete the challenge!",
      "metadata": {}
    },
    {
      "cell_type": "code",
      "source": [
        "# Step 1: Define secret codes (you can use any appropriate numbers)\n",
        "code1 = 12    # First secret code\n",
        "code2 = 7     # Second secret code\n",
        "code3 = 4     # Third secret code\n",
        "\n",
        "# Step 2: Use arithmetic operators to compute a composite secret value.\n",
        "# Complete the expression by filling in the blanks using the provided secret codes\n",
        "# For example, you might add, subtract or multiply these codes in a meaningful way.\n",
        "secret_value = ____ + ____ - ____ * ____  # Hint: use code1, code2, code3, and consider a constant if needed\n",
        "\n",
        "# Step 3: Create a lambda function to apply a bitwise operation on the secret value.\n",
        "# Fill in the blank to complete the lambda such that it performs a bitwise operation (e.g. AND, OR, XOR, NOT).\n",
        "bitwise_checker = lambda x: (x ____ ____ ____ )  # Hint: Consider using a bitwise operator with a constant\n",
        "\n",
        "# Step 4: Use the lambda function to uncover the hidden pattern in the secret value.\n",
        "# Complete the lambda call by filling in the blank.\n",
        "pattern_found = ____  # Hint: Call the lambda function with secret_value and/or additional operation if needed\n",
        "\n",
        "print(\"Hidden pattern:\", pattern_found)  # This will reveal the result of your secret computation"
      ],
      "metadata": {}
    },
    {
      "cell_type": "markdown",
      "source": "Fill in the blanks in the following Python code to create a digital treasure hunt challenge that uses arithmetic operators to calculate clues, for loops to iterate through levels, and a lambda function to generate a secret key.",
      "metadata": {}
    },
    {
      "cell_type": "code",
      "source": [
        "# Step 1: Calculate an initial clue using arithmetic operations (addition, multiplication, subtraction, division)\n",
        "# Hint: Replace the blanks with integers or operations as needed\n",
        "num1 = ____  # e.g., an integer to be added\n",
        "num2 = ____  # e.g., an integer to be multiplied\n",
        "num3 = ____  # e.g., an integer to be used in another operation\n",
        "initial_clue = (num1 + num2) * num3 - ____  # Replace blank with a value to subtract\n",
        "\n",
        "# Step 2: Create a secret key generator using a lambda function\n",
        "# Hint: The lambda should transform the clue (for example, by adding a fixed number to it)\n",
        "secret_generator = lambda key: key ____ 10  # Fill in the blank with an arithmetic operator\n",
        "\n",
        "# Step 3: Iterate through multiple levels of the treasure hunt using a for loop\n",
        "# Hint: Modify the clue at each level by adding an increment\n",
        "for level in range(____):  # Replace blank with the total number of levels (e.g., 5)\n",
        "    # Update the clue by adding a constant increment\n",
        "    initial_clue = initial_clue + ____  # Replace blank with an appropriate increment value\n",
        "    print(\"After level\", level, \"clue is\", initial_clue)\n",
        "\n",
        "# Step 4: Generate the final secret key using the lambda function\n",
        "final_key = secret_generator(initial_clue)\n",
        "print(\"Final secret key:\", final_key)"
      ],
      "metadata": {}
    },
    {
      "cell_type": "markdown",
      "source": "### Question on Bitwise Operators: \nFill in the blanks in the code below to decode a secret binary message using bitwise AND, OR, XOR, and NOT operations.",
      "metadata": {}
    },
    {
      "cell_type": "code",
      "source": [
        "# Use bitwise operations to manipulate the binary code\n",
        "binary_code = 0b101010\n",
        "mask = ____  # e.g., a binary mask like 0b111111\n",
        "and_result = binary_code ____ mask  # apply bitwise AND\n",
        "or_result = binary_code ____ mask   # apply bitwise OR\n",
        "xor_result = binary_code ____ mask  # apply bitwise XOR\n",
        "not_result = ____ binary_code       # apply bitwise NOT\n",
        "\n",
        "print('AND result:', and_result)  # hint: should isolate specific bits\n",
        "print('OR result:', or_result)    # hint: activate all bits in mask region\n",
        "print('XOR result:', xor_result)  # hint: toggle bits between binary_code and mask\n",
        "print('NOT result:', not_result)  # hint: invert all bits of binary_code"
      ],
      "metadata": {}
    },
    {
      "cell_type": "markdown",
      "source": "### Question on Lambda Functions: \nComplete the code below to define a lambda function that performs a quick calculation, then use it to compute mission-critical parameters.",
      "metadata": {}
    },
    {
      "cell_type": "code",
      "source": [
        "# Define a lambda function for quick arithmetic operations\n",
        "calc = ____  # fill in: lambda with two parameters (x, y) that returns x ____ y\n",
        "\n",
        "# Use the lambda function to calculate values\n",
        "result1 = calc(____, 5)   # fill in the missing first operand\n",
        "result2 = calc(10, ____)   # fill in the missing second operand\n",
        "\n",
        "# Combine the results\n",
        "final_result = result1 ____ result2  # fill in with an arithmetic operator\n",
        "print('Final Result:', final_result)  # hint: check consistency of operations and types"
      ],
      "metadata": {}
    },
    {
      "cell_type": "markdown",
      "source": "### Question on Polymorphism: \nFill in the blanks in the code below. Complete the definitions of classes and methods to show how different robot types can have different powers while sharing a common interface.",
      "metadata": {}
    },
    {
      "cell_type": "code",
      "source": [
        "# Define a superclass for the robot\n",
        "class Superhero:\n",
        "    def power(self):\n",
        "        return \"____\"  # fill in with a default power description\n",
        "\n",
        "# Define first robot type overriding the power method\n",
        "class RobotA(Superhero):\n",
        "    def power(self):\n",
        "        return ____( \"laser beam\" )  # fill in with a function or operation if needed\n",
        "\n",
        "# Define second robot type overriding the power method\n",
        "class RobotB(Superhero):\n",
        "    def power(self):\n",
        "        return \"____\"  # fill in with a specific power description, e.g., 'plasma shield'\n",
        "\n",
        "# Function to activate a robot's power\n",
        "def activate(robot: Superhero):\n",
        "    print('Activating power:', robot.power())\n",
        "\n",
        "# Instantiate robots and test polymorphism\n",
        "r1 = ____  # create an instance of RobotA\n",
        "r2 = ____  # create an instance of RobotB\n",
        "\n",
        "activate(____)  # pass the first robot instance\n",
        "activate(____)  # pass the second robot instance\n",
        "\n",
        "# Hints: Understand method overriding and use correct instantiation syntax"
      ],
      "metadata": {}
    },
    {
      "cell_type": "markdown",
      "source": "You are tasked with creating a secret decoder for a school treasure hunt. Fill in the blanks in the code below to create a lambda function that takes two binary numbers as input and returns a unique coded result by performing bitwise operations. Use bitwise AND, OR, and XOR wisely to combine the results. Comments in the code provide hints on which operations to use. Make sure you complete all the indicated blanks (____).",
      "metadata": {}
    },
    {
      "cell_type": "code",
      "source": "# Define the secret decoder using a lambda function.\n# This function should take two binary numbers 'a' and 'b' and return a combination of bitwise operations.\n# Hint: Use bitwise AND (a & b), OR (a | b), and XOR (a ^ b).\n\nsecret_decoder = lambda a, b: (a ____ b) ____ (a ____ b) ____ (a ____ b)  # Fill blanks with appropriate bitwise operators\n\n# Example usage:\n# Replace the blanks with valid binary numbers (e.g., 0b101010) for binary1 and binary2\nbinary1 = ____  # Provide a binary number, for example, 0b101010\nbinary2 = ____  # Provide another binary number, for example, 0b110011\n\n# Get the decoded secret using the lambda function\nresult = secret_decoder(binary1, binary2)\nprint(\"Decoded secret:\", result)  # This should output the result of the combined bitwise operations",
      "metadata": {}
    },
    {
      "cell_type": "markdown",
      "source": "Magical Programming Puzzle\n============================\n\nImagine you are a magical coder in a realm where programming spells solve enchanted puzzles. In this worksheet, you will complete a Python program that uses three mysterious techniques: Bitwise Operators to unlock secret messages, Lambda Functions as quick-sand spells, and Polymorphism to let various magical objects react differently in challenging situations. Your task is to fill in the blanks (____) in the code to complete the functionality. Use the hints in the comments to guide you without revealing the exact answers.\n\nComplete each of the three sections below:",
      "metadata": {}
    },
    {
      "cell_type": "code",
      "source": "# Bitwise Operators - Transforming Secret Binary Codes\n# Complete the function below by filling in the blanks (____).\n# Hints are provided in the comments.\n\ndef bitwise_transform(binary_str):\n    # Convert the binary string to an integer (use the correct base).\n    num = int(binary_str, ____)  # Fill in the base (hint: binary base).\n    \n    # Perform a bitwise XOR with a magic number (to shuffle bits).\n    xor_result = num ____ ____ 0b1010  # Fill in the operator for bitwise XOR.\n    \n    # Perform a bitwise OR with another magic number (to set specific bits).\n    or_result = xor_result ____ ____ 0b0101  # Fill in the operator for bitwise OR.\n    \n    # Apply bitwise NOT and mask the result to obtain a 4-bit result (for controlled output).\n    not_result = ____(or_result) & ____  # Use the bitwise NOT operator/function and provide a mask.\n    \n    # Convert the final result back to a binary string (without the '0b' prefix).\n    return bin(____)[2:]  # Fill in with the variable holding the final transformed number.\n\n# Example usage (for testing; you can modify as needed):\n# print(bitwise_transform('10101100'))",
      "metadata": {}
    },
    {
      "cell_type": "code",
      "source": "# Lambda Functions - Quick Magical Spells\n# Define and use a lambda function that calculates a modified power expression.\n# Fill in the blanks (____) to complete the lambda spell.\n\n# Create a lambda function that raises a number to a power and then adjusts it by a magical constant.\nmagic_spell = lambda x: (x ** ____) ____ ____  # Fill in the exponent and the arithmetic operator with a constant.\n\n# Use the lambda function to cast the spell on a secret number.\nresult = magic_spell(____)  # Provide a secret number as input.\n\n# Print out the magical result.\nprint(\"The magical result is:\", ____)  # Ensure you print the variable holding the result.",
      "metadata": {}
    },
    {
      "cell_type": "code",
      "source": "# Polymorphism - Adapting Magic Objects\n# Implement polymorphism by completing the classes and method calls.\n# Fill in the blanks (____) where necessary according to the hints in comments.\n\n# Base class representing a magical object.\nclass MagicalObject:\n    def interact(self):\n        print(\"I am a magical object doing something mysterious: ____\")  # Describe the hidden magic.\n\n# Derived class representing a fiery magic spell.\nclass FireSpell(MagicalObject):\n    def interact(self):\n        print(\"I bring burning heat: ____\")  # Fill in a description of the fiery effect.\n       \n# Derived class representing a chilling magic spell.\nclass IceSpell(MagicalObject):\n    def interact(self):\n        print(\"I bring freezing cold: ____\")  # Fill in a description of the icy effect.\n\n# Function to cast a spell by invoking the interact method (demonstrates polymorphism).\n\ndef cast_spell(obj: MagicalObject):\n    obj.____()  # Call the method that demonstrates the object's magical behavior.\n\n# Instantiate magical objects.\nfire = FireSpell()\nice = IceSpell()\n\n# Cast spells using polymorphism.\nfor spell in [fire, ice]:\n    cast_spell(____)  # Pass the current spell object to the cast_spell function.",
      "metadata": {}
    },
    {
      "cell_type": "markdown",
      "source": "Complete the missing parts in the Python code below to simulate a treasure hunt game on a 5x5 grid. Fill in the blanks (indicated by `____`) to implement grid traversal, arithmetic operations, and condition checks.",
      "metadata": {}
    },
    {
      "cell_type": "code",
      "source": "# Treasure Hunt Game: Fill in the Blanks\n\n# Initialize the grid size for a 5x5 grid\ngrid_size = ____  # Hint: Use the number 5\n\n# Initialize a flag to indicate if the treasure has been found\ntreasure_found = ____  # Hint: Use a boolean value\n\n# Traverse each cell in the grid using nested loops\nfor row in range(____):      # Hint: Use grid_size\n    for col in range(____):  # Hint: Use grid_size\n        \n        # Compute a secret number for the current cell using arithmetic operators\n        # The secret could be a combination of multiplication, addition, or subtraction\n        secret = (row * col) ____ row ____ ____  # Hints: Consider additional arithmetic operations\n        \n        # Check if the secret number meets two conditions:\n        # 1. It is even (using modulo operator) \n        # 2. It falls within the range 10 to 50 (inclusive)\n        if secret % ____ == 0 and ____ <= secret <= ____:  # Hints: Fill in the modulo divisor and range boundaries\n            print(\"Clue: Next step at cell (\", row, \",\", col, \")\")\n            treasure_found = ____  # Hint: Set the flag to True\n            break\n    if treasure_found:\n        break\n\n# Note: This is a skeleton code for a treasure hunt game. Completing all blanks is required for the code to function properly.",
      "metadata": {}
    },
    {
      "cell_type": "markdown",
      "source": "Imagine you are a young computer scientist on a special mission: you need to create a magical calculator! In this task, you will create a lambda function that applies a secret bitwise operation (such as XOR) to two numbers. Write a Python code snippet that includes the following:\n\n- A lambda function definition with blanks (indicated by ____) where you must fill in the lambda keyword and the bitwise operator.\n- Test the lambda function by calling it with two chosen numbers (fill in the blanks with appropriate values).\n- Print the result of the operation.\n- Include a brief comment explaining how the selected bitwise operator transforms the numbers when viewed as binary (0s and 1s).\n\nEnsure that you use at least 4 to 5 blanks sprinkled meaningfully in your code.",
      "metadata": {}
    },
    {
      "cell_type": "code",
      "source": "# Define a lambda function to perform a bitwise operation on two numbers\n# Hint: Use the lambda keyword and an operator such as XOR\nmagical_calculator = ____ (x, y: x ____ y)  \n\n# Assign two numbers to test the lambda function\nnum1 = ____  # e.g., a chosen integer\nnum2 = ____  # e.g., a chosen integer\n\n# Call the lambda function with the test numbers\nresult = magical_calculator(____, ____)  \n\n# Print the result of the bitwise operation\nprint('Result of bitwise operation:', ____)  \n\n# Explanation (in your own words):\n# The bitwise operator (e.g., ^ for XOR) compares the binary representations of num1 and num2, \n# and for each bit position, it returns 1 if the bits differ or 0 if they are the same. This creates a new number based on these comparisons.",
      "metadata": {}
    },
    {
      "cell_type": "markdown",
      "source": "Question 1: Complete the program to perform bitwise operations on given binary numbers. Fill in the blanks to calculate and print the results for AND, OR, XOR, NOT, and left shift operations.",
      "metadata": {}
    },
    {
      "cell_type": "code",
      "source": [
        "# Initialize two binary numbers\n",
        "binary1 = ____  # e.g., something like 0b1010\n",
        "binary2 = ____  # e.g., something like 0b1100\n",
        "\n",
        "# Bitwise AND operation\n",
        "result_and = binary1 ____ binary2\n",
        "print(\"Bitwise AND:\", result_and)\n",
        "\n",
        "# Bitwise OR operation\n",
        "result_or = binary1 ____ binary2\n",
        "print(\"Bitwise OR:\", result_or)\n",
        "\n",
        "# Bitwise XOR operation\n",
        "result_xor = binary1 ____ binary2\n",
        "print(\"Bitwise XOR:\", result_xor)\n",
        "\n",
        "# Bitwise NOT operation on binary1\n",
        "result_not = ____ binary1\n",
        "print(\"Bitwise NOT of binary1:\", result_not)\n",
        "\n",
        "# Bitwise left shift operation on binary1 (shift by 2 places)\n",
        "result_shift = binary1 ____ 2\n",
        "print(\"Left Shift of binary1:\", result_shift)  # Hint: Use << for left shift"
      ],
      "metadata": {}
    },
    {
      "cell_type": "markdown",
      "source": "Question 2: Complete the program to create a lambda function that checks if the count of 1s in the binary representation of a number is even. Then, filter a list of binary numbers using this lambda function.",
      "metadata": {}
    },
    {
      "cell_type": "code",
      "source": [
        "# List of binary numbers\n",
        "numbers = [____, 0b1011, 0b1101, ____]  # Fill in with appropriate binary numbers\n",
        "\n",
        "# Lambda function to check if the count of 1s is even\n",
        "check_condition = lambda x: (bin(x).count('1')) % ____ ____ 0  # Fill blanks: first with the modulo divisor and then the comparator\n",
        "\n",
        "# Filter the list using the lambda function\n",
        "filtered_numbers = list(____(check_condition, numbers))  # Hint: Use the built-in filter function\n",
        "print(\"Numbers meeting condition:\", filtered_numbers)"
      ],
      "metadata": {}
    },
    {
      "cell_type": "markdown",
      "source": "Imagine you are designing a secret code system for a magical computer game. In this game, players use hidden codes to unlock special powers. Your challenge is to create a program that: \n\n1. Uses bitwise operators to transform a secret binary code into a scrambled form.\n2. Applies a lambda function to further modify the code using arithmetic operations.\n3. Implements a class with magic methods that merges and compares two codes.\n\nFill in the blanks (indicated by ____) in each code cell with the appropriate Python operators or expressions. Hints are provided in the comments. Good luck and think critically!",
      "metadata": {}
    },
    {
      "cell_type": "code",
      "source": "# Part 1: Bitwise Operators\n# Use bitwise operations to transform the secret code.\n\n# Original secret code (binary number)\nsecret_code = 0b1100110\n\n# Step 1: Apply bitwise NOT to invert the bits\nnot_code = ____secret_code  # Hint: Use the bitwise NOT operator, e.g., ~\n\n# Step 2: Left shift the result by 1 to scramble further\nshifted_code = not_code ____ 1  # Hint: Use the left shift operator (<<)\n\n# Step 3: Apply bitwise XOR with a mask to add complexity\ntransformed_code = shifted_code ____ 0b1010101  # Hint: Use the bitwise XOR operator (^)\n\n# Step 4: Additionally, combine with a bitwise OR to finalize the transformation\nfinal_code = transformed_code ____ 0b0101010  # Hint: Use the bitwise OR operator (|)\n\nprint(\"Bitwise Final Code:\", bin(final_code))",
      "metadata": {}
    },
    {
      "cell_type": "markdown",
      "source": "Part 2: Lambda Functions\n\nDefine a lambda function that multiplies the code by a secret factor and then adds a constant. This further transforms the secret code. Fill in the blanks in the code cell below.",
      "metadata": {}
    },
    {
      "cell_type": "code",
      "source": "# Part 2: Lambda Function Transformation\n\n# Define a lambda function that transforms the code\n# It multiplies the input by a factor and then adds a constant\ntransform = lambda x: (x ____ 3) ____ 7  # Hints: Use multiplication (*) and addition (+) operators\n\n# Apply the lambda function to final_code from Part 1\nmodified_code = transform(____)  # Hint: Pass the variable 'final_code'\n\n# Further, subtract a binary constant to complete the transformation\nresult_code = modified_code ____ 0b101  # Hint: Use the subtraction operator (-)\n\nprint(\"Lambda Result Code:\", bin(result_code))",
      "metadata": {}
    },
    {
      "cell_type": "markdown",
      "source": "Part 3: Magic Methods\n\nImplement a class called SecretCode that utilizes magic methods to merge and compare two code objects. Fill in the blanks in the code cell below.",
      "metadata": {}
    },
    {
      "cell_type": "code",
      "source": "# Part 3: Class with Magic Methods\n\nclass SecretCode:\n    def __init__(self, code):\n        self.code = code\n\n    def __add__(self, other):\n        # Merge two secret codes using bitwise OR\n        return SecretCode(self.code ____ other.code)  # Hint: Use bitwise OR operator (|)\n\n    def __eq__(self, other):\n        # Compare two codes using a lambda function (they are considered equal if they are identical)\n        compare_func = lambda a, b: a ____ b  # Hint: Use the equality operator (==) within the lambda\n        return compare_func(self.code, other.code)\n\n# Create two secret code objects using result_code and a slight variation of result_code\ncode_obj1 = SecretCode(result_code)\ncode_obj2 = SecretCode(result_code ____ 1)  # Hint: Use the addition operator (+) to increment the code by 1\n\n# Merge the two secret code objects using the overridden __add__ method\nmerged_code = code_obj1 ____ code_obj2  # Hint: Use the addition operator (+) as defined in the class\n\nprint(\"Merged secret code:\", bin(merged_code.code))\n\n# Check if the two original secret codes are equal using the __eq__ method\nprint(\"Are codes equal?\", code_obj1 ____ code_obj2)  # Hint: Use the equality operator (==)",
      "metadata": {}
    },
    {
      "cell_type": "markdown",
      "source": "Fill in the blanks to create a lambda function that computes a mystical number using bitwise operators.",
      "metadata": {}
    },
    {
      "cell_type": "code",
      "source": "# Define your secret spell as a lambda function\n# Hint: Replace the blanks (____) with appropriate bitwise operators (such as &, |, ^) to combine the expressions\nmystical_spell = lambda x: ((x ____ 0b1010) ____ (x ____ 0b0101)) ____ (x ____ 0b0011)\n\n# Example usage (the result will depend on your filled operators)\nresult = mystical_spell(7)\nprint('Mystical Spell Result:', result)",
      "metadata": {}
    },
    {
      "cell_type": "markdown",
      "source": "Fill in the blanks to implement a function that computes a combined magical effect by mixing two energies using bitwise operations.",
      "metadata": {}
    },
    {
      "cell_type": "code",
      "source": "# Implement the function that combines two numbers with bitwise magic\n# Hint: The blanks (____) should be replaced with operators such as &, |, or ^ to create a combined effect\n\ndef combined_effect(a, b):\n    effect = ((a ____ 0b1100) ____ (b ____ 0b1010)) ____ a ____ b\n    return effect\n\n# Test the function with sample input (the actual behavior depends on your choices for the operators)\nprint('Combined Magical Effect:', combined_effect(5, 3))",
      "metadata": {}
    },
    {
      "cell_type": "markdown",
      "source": "Fill in the blanks to implement a polymorphic design where different magical objects cast a mystical spell in their own unique way.",
      "metadata": {}
    },
    {
      "cell_type": "code",
      "source": "# Define a base class for spell casters\nclass SpellCaster:\n    def cast_spell(self, x):\n        raise NotImplementedError('Spell not implemented!')\n\n# Wizard uses a secret lambda-based spell\nclass Wizard(SpellCaster):\n    def cast_spell(self, x):\n        # Hint: Use lambda and bitwise operators to craft the spell\n        spell = lambda x: ((x ____ 0b1010) ____ (x ____ 0b0101)) ____ (x ____ 0b0011)\n        return spell(x)\n\n# Dragon uses a fiercer bitwise combination\nclass Dragon(SpellCaster):\n    def cast_spell(self, x):\n        # Hint: Create a different twist by combining multiple bitwise operators\n        return ((x ____ 0b1111) ____ (x ____ 0b0001)) ____ (x ____ 0b0010)\n\n# EnchantedTree has its own ancient magic\nclass EnchantedTree(SpellCaster):\n    def cast_spell(self, x):\n        # Hint: Similar to the wizard but with its own variation\n        return ((x ____ 0b1010) ____ (x ____ 0b0101)) ____ (x ____ 0b0011)\n\n# Function to demonstrate polymorphism by casting the spell from all magical objects\n\ndef cast_all_spell(casters, x):\n    results = []\n    for caster in casters:\n        results.append(caster.cast_spell(x))\n    return results\n\n# Instantiate magical objects\ncasters = [Wizard(), Dragon(), EnchantedTree()]\n\n# Cast the spell with a sample input (the mystical result depends on your completed operators)\nprint('Polymorphic Spell Results:', cast_all_spell(casters, 7))",
      "metadata": {}
    },
    {
      "cell_type": "markdown",
      "source": "Imagine you're a coding detective in a digital kingdom where secret codes are hidden in binary numbers. Your mission is to write a lambda function that takes two integer inputs, applies a bitwise XOR operation on them, and then multiplies the result by an offset to unlock a mysterious door.",
      "metadata": {}
    },
    {
      "cell_type": "code",
      "source": "# Define a lambda function that computes the secret code using a bitwise XOR and an offset multiplier\n# Fill in the blanks (____) with the appropriate Python syntax and values.\n\n# In the lambda below:\n# 1st blank: Use the 'lambda' keyword.\n# 2nd and 3rd blanks: Define two parameters (e.g., a and b).\n# 4th blank: First parameter in the XOR operation (e.g., a).\n# 5th blank: The bitwise XOR operator '^'.\n# 6th blank: Second parameter in the XOR operation (e.g., b).\n# 7th blank: An integer offset multiplier (e.g., 1) to modify the result.\n\nsecret_key = ____ ( ____, ____ : ( ____ ____ ____ ) * ____ )\n\n# Test the lambda function with two sample integers (replace the blanks with numbers, e.g., 42 and 23)\nresult = secret_key( ____, ____ )\nprint(\"Secret key:\", result)  # Hint: The XOR of the binary forms of the inputs, possibly scaled, is your secret code.",
      "metadata": {}
    },
    {
      "cell_type": "markdown",
      "source": "Question 1 (Bitwise Operators): Fill in the blanks to perform bitwise operations on two binary numbers.",
      "metadata": {}
    },
    {
      "cell_type": "code",
      "source": [
        "# Given two binary numbers, perform AND, OR, XOR and NOT operations\n",
        "a = ____  # e.g., 0b1010\n",
        "b = ____  # e.g., 0b0101\n",
        "\n",
        "# Bitwise AND operation\n",
        "result_and = a ____ b  # Use the AND operator\n",
        "\n",
        "# Bitwise OR operation\n",
        "result_or = a ____ b  # Use the OR operator\n",
        "\n",
        "# Bitwise XOR operation\n",
        "result_xor = a ____ b  # Use the XOR operator\n",
        "\n",
        "# Bitwise NOT operation on a\n",
        "result_not = ____(a)  # Use the NOT operator function\n",
        "\n",
        "print(\"AND:\", result_and, \"OR:\", result_or, \"XOR:\", result_xor, \"NOT a:\", result_not)  # Verify the operations"
      ],
      "metadata": {}
    },
    {
      "cell_type": "markdown",
      "source": "Question 2 (Lambda Functions): Fill in the blanks to create a lambda function that conditionally applies bitwise operations on two binary numbers.",
      "metadata": {}
    },
    {
      "cell_type": "code",
      "source": [
        "# Create a lambda function that returns the result of a bitwise operation based on a condition\n",
        "bitwise_op = lambda x, y: ____ if x > y else ____  # If x > y, perform bitwise AND; otherwise, bitwise OR\n",
        "\n",
        "# Assign two binary numbers\n",
        "a = ____  # e.g., 0b1100\n",
        "b = ____  # e.g., 0b1010\n",
        "\n",
        "# Use the lambda function with the provided numbers\n",
        "result = bitwise_op(____, ____)  # Pass 'a' and 'b' to the lambda function\n",
        "\n",
        "print(\"Lambda Result:\", result)  # Output the result"
      ],
      "metadata": {}
    },
    {
      "cell_type": "markdown",
      "source": "Question 3 (Magic Methods): Fill in the blanks to complete the Python class that uses magic methods for comparing secret code objects.",
      "metadata": {}
    },
    {
      "cell_type": "code",
      "source": [
        "# Define a class for secret codes with magic methods for comparison\n",
        "class SecretCode:\n",
        "    def __init__(self, code):\n",
        "        self.code = code\n",
        "\n",
        "    def __eq__(self, other):\n",
        "        # Equality comparison based on the integer value of the binary code\n",
        "        return int(self.code, 2) ____ int(other.code, 2)  # Should use an equality operator\n",
        "\n",
        "    def __lt__(self, other):\n",
        "        # Less than comparison based on the integer value of the binary code\n",
        "        return int(self.code, 2) ____ int(other.code, 2)  # Should use a less-than operator\n",
        "\n",
        "    def __str__(self):\n",
        "        return f\"SecretCode({____})\"  # Display the code\n",
        "\n",
        "# Example usage:\n",
        "code1 = SecretCode(____)  # e.g., \"1010\"\n",
        "code2 = SecretCode(____)  # e.g., \"0101\"\n",
        "\n",
        "# Compare the two secret codes\n",
        "print(\"Equal:\", code1 ____ code2)  # Use the equality operator for objects\n",
        "print(\"Less than:\", code1 ____ code2)  # Use the less-than operator for objects"
      ],
      "metadata": {}
    },
    {
      "cell_type": "markdown",
      "source": "Imagine you are on a treasure hunt to unlock a hidden digital vault! Fill in the blanks in the Python code below to manipulate a mysterious number using bitwise operators and a lambda function to compute the final treasure location code. Hints are provided in the comments; complete the blanks (____) to solve the puzzle.",
      "metadata": {}
    },
    {
      "cell_type": "code",
      "source": "# Define the mysterious number (fill in the blank)\n# Hint: Choose any integer that you consider mysterious.\nmysterious_number = ____\n\n# Convert the number to its binary representation (removing the '0b' prefix)\nbinary_rep = bin(mysterious_number)[2:]\nprint('Binary representation:', binary_rep)\n\n# Use a bitwise operation with a mask to extract a secret clue.\n# Hint: Use XOR (^) with a mask (for example, 0b101010) to flip bits.\nintermediate = mysterious_number ____ 0b101010  # Fill in the blank with the appropriate operator\n\n# Apply a bitwise NOT operation to further manipulate the clue.\n# Hint: Use the NOT operator (~) to invert the bits of the intermediate result.\nintermediate = ____ intermediate  # Fill in the blank with the NOT operator\nprint('Intermediate clue:', intermediate)\n\n# Define a lambda function to transform the intermediate result into the final treasure code.\n# Hint: The lambda might perform an arithmetic operation like multiplication.\nfinal_code_func = lambda x: x ____ 5  # Fill in the blank with the operator for the transformation\n\n# Generate the final code. Optionally, add a constant offset if needed.\n# Hint: If you want to shift the result, add a constant using the correct operator.\nfinal_result = final_code_func(intermediate) + ____  # Fill in the blank with the operator/constant as desired\n\nprint('Final treasure code:', final_result) ",
      "metadata": {}
    },
    {
      "cell_type": "markdown",
      "source": "## Challenge 1: Decoding Binary Messages\n\nIn this challenge, write a function `decode_message` that uses bitwise operators to extract and transform parts of a binary number. Fill in the blanks (____) with the appropriate operators and expressions to complete the exercise. Hints are provided in the comments. (At least 4 blanks to be filled).",
      "metadata": {}
    },
    {
      "cell_type": "code",
      "source": "def decode_message(num):\n    # Use ____ operator to extract the last 4 bits (Hint: bitwise AND)\n    part1 = num ____ 0b1111\n    \n    # Use ____ operator to left shift the number by 2 bits (Hint: left shift operator)\n    part2 = num ____ 2\n    \n    # Use ____ operator to flip certain bits with XOR (Hint: XOR operator with 0b1010)\n    part3 = num ____ 0b1010\n    \n    # Use ____ to invert the bits (Hint: bitwise NOT)\n    part4 = ~num\n    \n    # Return the combined transformed value\n    return part1 + part2 + part3 + part4\n\n# Uncomment the following line to test your function\n# print(decode_message(0b11010110))",
      "metadata": {}
    },
    {
      "cell_type": "markdown",
      "source": "## Challenge 2: Crafting a Spell Transformation with Lambda\n\nCreate a lambda function named `transform_code` that transforms an input integer. Your lambda should perform a series of arithmetic operations combined with the input (fill-in-the-blanks using ____). Ensure your lambda carries at least 4 blanks that students need to fill in to complete the transformation correctly.",
      "metadata": {}
    },
    {
      "cell_type": "code",
      "source": "# Define the lambda function with fill-in-the-blanks\ntransform_code = lambda x: ((x ____ 2) ____ 3) ____ (x ____ 4)\n\n# For testing, you can try printing the transformed code\n# print(transform_code(5))  # Expected output depends on correct operator selection",
      "metadata": {}
    },
    {
      "cell_type": "markdown",
      "source": "## Challenge 3: Polymorphism in Magical Spell Casting\n\nDesign a system using polymorphism where different character types (Wizard, Archer, Knight) override a common method `cast_spell`. Each class has its own twist in how a spell is cast. Fill in the blanks (____) appropriately in the code:\n\n- Complete the base class method by providing a default response.\n- Implement each subclass's version of `cast_spell` with a unique modification using blanks.\n- When calling the method, fill in the blank in the argument to invoke the spell.\n\nThis exercise tests your understanding of polymorphism and method overriding.",
      "metadata": {}
    },
    {
      "cell_type": "code",
      "source": "class SpellCaster:\n    def cast_spell(self, spell):\n        # Base implementation; complete the string concatenation with a blank\n        return \"____ \" + spell  # Hint: Insert a default spell prefix or modifier\n\nclass Wizard(SpellCaster):\n    def cast_spell(self, spell):\n        # Wizard's unique spell casting (Hint: append a magical effect string)\n        return \"Wizard: \" + spell ____ \" with fire magic\"\n\nclass Archer(SpellCaster):\n    def cast_spell(self, spell):\n        # Archer's unique spell casting (Hint: insert an appropriate connecting word)\n        return \"Archer: \" + spell ____ \" with ice magic\"\n\nclass Knight(SpellCaster):\n    def cast_spell(self, spell):\n        # Knight's unique spell casting (Hint: use a similar connecting approach)\n        return \"Knight: \" + spell ____ \" with earth magic\"\n\n# Create a list of characters and test their spell casting\ncharacters = [Wizard(), Archer(), Knight()]\nfor char in characters:\n    # Exercise: fill the blank when calling cast_spell\n    print(char.cast_spell(____ \"Mystic Spell\"))",
      "metadata": {}
    },
    {
      "cell_type": "markdown",
      "source": "Imagine you're a digital detective in a futuristic world where secret messages are hidden in numbers! In this challenge, you'll first encounter an encrypted binary map that can only be decoded using Bitwise Operators. Once you've uncovered the secret digits, craft a clever Lambda Function to transform these binary clues into a meaningful number. Finally, use your mastery of Arithmetic Operators to perform a series of calculations that reveal the location of a hidden treasure in the digital realm. Can you combine these skills to crack the ultimate code of Computania?",
      "metadata": {}
    },
    {
      "cell_type": "markdown",
      "source": "Question 1: Bitwise Operators\nFill in the blanks in the code to perform bitwise operations on two binary numbers. Replace each ____ with the correct operator or variable to compute bitwise AND, OR, XOR, and bitwise NOT.",
      "metadata": {}
    },
    {
      "cell_type": "code",
      "source": "a = 0b1010  # binary for 10\nb = 0b1100  # binary for 12\n\n# Compute bitwise AND\nresult_and = a ____ b  # Use the bitwise AND operator\nprint(\"AND:\", ____)\n\n# Compute bitwise OR\nresult_or = a ____ b  # Use the bitwise OR operator\nprint(\"OR:\", ____)\n\n# Compute bitwise XOR\nresult_xor = a ____ b  # Use the bitwise XOR operator\nprint(\"XOR:\", ____)\n\n# Compute bitwise NOT for a\nresult_not = ____ a  # Use the bitwise NOT operator\nprint(\"NOT a:\", ____)\n# Hints: Operators are &, |, ^ and ~ (for NOT) respectively.",
      "metadata": {}
    },
    {
      "cell_type": "markdown",
      "source": "Question 2: Lambda Functions\nFill in the blanks to define a lambda function that converts a binary string into an integer using Python's built-in conversion function. Replace each ____ with the correct syntax.",
      "metadata": {}
    },
    {
      "cell_type": "code",
      "source": "# Define a lambda function to convert a binary string to an integer\nbinary_to_int = ____ x: ____(x, ____)  # Hint: use 'lambda', 'int', and the correct base\n\n# Test the lambda function with a binary string\nresult = ____(____)  \nprint(\"Converted integer:\", ____)  # Hint: Call the lambda function and store the result",
      "metadata": {}
    },
    {
      "cell_type": "markdown",
      "source": "Question 3: Arithmetic Operators\nFill in the blanks to perform arithmetic operations: addition, subtraction, multiplication, and division on two numbers. Replace each ____ with the appropriate value or operator.",
      "metadata": {}
    },
    {
      "cell_type": "code",
      "source": "# Initialize variables\nnum1 = ____  # Assign a numeric value\nnum2 = ____  # Assign a numeric value (non-zero for division)\n\n# Calculate sum\nsum_result = num1 ____ num2  \n\n# Calculate difference\ndiff_result = num1 ____ num2  \n\n# Calculate product\nprod_result = num1 ____ num2  \n\n# Calculate quotient\nquot_result = num1 ____ num2  # Ensure num2 is not zero\n\nprint(\"Sum:\", sum_result)\nprint(\"Difference:\", diff_result)\nprint(\"Product:\", prod_result)\nprint(\"Quotient:\", quot_result)\n# Hints: Use +, -, *, and / operators respectively.",
      "metadata": {}
    },
    {
      "cell_type": "markdown",
      "source": "You are a secret digital agent in Codetopia! Your mission is to decode a hidden message that is encrypted as a list of numbers. To accomplish this:\n\n1. Create a lambda function that applies a bitwise transformation (for example, XOR) to each number using a secret key.\n2. Use this lambda to transform the encoded list and convert each number to its corresponding ASCII character.\n3. Assemble the characters into the final decoded message.\n\nFill in the blanks (indicated by ____ ) with the appropriate code elements. Hints are provided in the comments. Good luck!",
      "metadata": {}
    },
    {
      "cell_type": "code",
      "source": "# Encrypted message represented as a list of integers (each ____ should be replaced with an integer value).\nencoded_values = [____, ____, ____, ____]  # Example: [72, 29, 7, 0] \n\n# Secret key for bitwise transformation (replace ____ with an integer key)\nkey = ____  \n\n# Create a lambda function using a bitwise operator to transform each number. \n# Replace the blank with the correct bitwise operator (e.g., XOR is ^). \ntransform = lambda num: num ____ key  \n\n# Convert each transformed number to its corresponding ASCII character.\n# Replace ____ with the built-in function to convert an integer to a character.\ndecode_char = ____\n\n# Apply the lambda function to each number and convert it to a character. \ndecoded_chars = [decode_char(transform(num)) for num in encoded_values]\n\n# Assemble the final message.\n# Replace ____ with the method or function that joins the list into a string.\ndecoded_message = ____(decoded_chars)\n\n# Print out the secret message\nprint(____)  # Hint: make sure to print the decoded_message variable",
      "metadata": {}
    },
    {
      "cell_type": "markdown",
      "source": "Fill in the blanks to complete the code that calculates the secret code using arithmetic operators.",
      "metadata": {}
    },
    {
      "cell_type": "code",
      "source": "def compute_secret_code():\n    # Initialize numbers from the mysterious map\n    a = ____  # e.g., first number from the map\n    b = ____  # e.g., second number\n    c = ____  # e.g., third number\n    d = ____  # e.g., fourth number\n    \n    # Calculate the secret code using arithmetic operations\n    # The expression combines multiple operations; fill in the blanks with appropriate arithmetic operators (+, -, *, /)\n    secret = (((a ____ b) ____ c) ____ (d ____ a)) ____ b  # Fill in each '____' with an operator\n    \n    return secret\n\n# Hint: Consider the order of operations and how grouping changes the result.",
      "metadata": {}
    },
    {
      "cell_type": "markdown",
      "source": "Fill in the blanks to determine if the calculated secret code meets the treasure unlocking criteria using comparison operators.",
      "metadata": {}
    },
    {
      "cell_type": "code",
      "source": "def check_unlock(secret):\n    # Define a threshold value needed to unlock the next clue\n    threshold = ____  # Provide the threshold constant\n    \n    # Adjust the secret code by applying a penalty; fill in the operator and the penalty value\n    adjusted = secret ____ ____  # For example, use '-' and a penalty constant\n    \n    # Validate if the adjusted code meets the threshold criteria\n    valid = adjusted ____ threshold  # Fill in with a comparison operator (e.g., >=)\n    \n    if valid:\n        print(\"Unlocked the next clue!\")\n    else:\n        print(\"Keep searching!\")\n        \n    return valid\n\n# Hint: Ensure the comparison reflects the condition for unlocking the clue.",
      "metadata": {}
    },
    {
      "cell_type": "markdown",
      "source": "Complete the code to determine if multiple treasure clues collectively indicate the correct treasure location using logical operators.",
      "metadata": {}
    },
    {
      "cell_type": "code",
      "source": "def is_treasure_location(valid_code, hidden_symbol, special_number):\n    # Combine all clues using logical operators to decide if the treasure is found.\n    # The conditions to check:\n    # 1. valid_code must be True\n    # 2. hidden_symbol should equal \"magic\"\n    # 3. special_number should meet a certain criteria (e.g., be greater than or equal to a value)\n    \n    # Fill in the blanks with appropriate logical and comparison operators as well as a constant\n    if valid_code ____ (hidden_symbol ____ \"magic\") ____ (special_number ____ ____):\n         print(\"Treasure found!\")\n    else:\n         print(\"The treasure is still hidden.\")\n         \n    # Repeat the combined condition for returning a boolean result\n    return valid_code ____ (hidden_symbol ____ \"magic\") ____ (special_number ____ ____)\n\n# Hint: Use 'and' for logical conjunction and '==' for equality; choose the appropriate comparison for special_number (e.g., >= and a constant like 100).",
      "metadata": {}
    },
    {
      "cell_type": "markdown",
      "source": "Imagine you are a tech-savvy secret agent tasked with developing a futuristic code-breaking tool. In the following exercises, you will fill in the blanks (indicated by ____ ) in Python code to implement critical functions. Answer carefully by understanding bitwise operators, lambda functions, and polymorphism.",
      "metadata": {}
    },
    {
      "cell_type": "markdown",
      "source": "Question 1: Bitwise Operators\n\nFill in the blanks to implement a Python function that uses bitwise operators (AND, OR, XOR, NOT) to manipulate binary numbers. Hints are provided in the comments.",
      "metadata": {}
    },
    {
      "cell_type": "code",
      "source": "def bitwise_operations(a, b):\n    # Perform bitwise operations using proper operators\n    result_and = a ____ b    # Hint: Use the '&' operator\n    result_or = a ____ b     # Hint: Use the '|' operator\n    result_xor = a ____ b    # Hint: Use the '^' operator\n    result_not = ____ a      # Hint: Use the '~' operator\n    return result_and, result_or, result_xor, result_not\n\n# Test the function with binary literals\nbinary1 = ____    # e.g., a binary literal like 0b1010\nbinary2 = ____    # e.g., a binary literal like 0b1100\nresults = bitwise_operations(binary1, binary2)\nprint(____)         # Print the tuple of results",
      "metadata": {}
    },
    {
      "cell_type": "markdown",
      "source": "Question 2: Lambda Functions\n\nFill in the blanks to create lambda functions that convert binary strings to integers and perform arithmetic operations. Use the lambda keyword correctly and follow the hints in the comments.",
      "metadata": {}
    },
    {
      "cell_type": "code",
      "source": "# Create lambda functions for conversion and arithmetic operations\nbin_to_int = ____ s: int(s, 2)         # Hint: Use 'lambda'\nint_to_bin = ____ n: bin(n)            # Hint: Use 'lambda'\nadder = ____ x, y: x + y               # Hint: Use 'lambda'\nmultiplier = ____ x, y: x * y          # Hint: Use 'lambda'\n\n# Process binary data\nbinary_str1 = \"1010\"\nbinary_str2 = \"1100\"\nnum1 = bin_to_int(____)               # Hint: Pass binary_str1\nnum2 = bin_to_int(____)               # Hint: Pass binary_str2\nsum_result = adder(____, ____)         # Hint: Use num1 and num2\nprod_result = multiplier(____, ____)   # Hint: Use num1 and num2\nprint(\"Sum in binary:\", int_to_bin(sum_result), \"Product in binary:\", int_to_bin(prod_result))",
      "metadata": {}
    },
    {
      "cell_type": "markdown",
      "source": "Question 3: Polymorphism\n\nFill in the blanks to implement polymorphism for decoding secret messages using different methods. You will create a base class and two subclasses that override the decode method. Follow the comments for hints.",
      "metadata": {}
    },
    {
      "cell_type": "code",
      "source": "class Decoder:\n    def decode(self, data):\n        # Abstract method - to be implemented by subclasses\n        raise NotImplementedError(\"____\")  # Hint: Provide an appropriate message\n\nclass BitwiseDecoder(Decoder):\n    def decode(self, data):\n        # Use a lambda function to perform bitwise NOT transformation\n        transformation = ____ x: ____ x  # Hint: Use 'lambda' and the '~' operator\n        return transformation(data)\n\nclass ArithmeticDecoder(Decoder):\n    def decode(self, data):\n        # Use arithmetic operations to decode (e.g., multiply by factors)\n        result = (data ____ 2) + (data ____ 3)  # Hint: Use '*' for multiplication\n        return result\n\n# Function to process a secret message using a given decoder\n\ndef process_message(decoder: Decoder, message):\n    return decoder.____(message)  # Hint: Call the appropriate method\n\n# Demonstrate polymorphism\n# Create a list of decoder objects from different decoding strategies\ndecoders = [BitwiseDecoder(), ArithmeticDecoder()]\nsecret_message = ____   # Hint: Provide an encoded integer value, e.g., 0b101101 or any integer\nfor d in decoders:\n    print(process_message(d, secret_message))",
      "metadata": {}
    },
    {
      "cell_type": "markdown",
      "source": "Question on Bitwise Operators: Fill in the blanks to create lambda functions that perform bitwise AND, OR, XOR, and NOT operations on secret binary codes.",
      "metadata": {}
    },
    {
      "cell_type": "code",
      "source": "## Define lambda functions for bitwise operators\nbitwise_and = lambda a, b: a ____ b  # Replace ____ with '&'\nbitwise_or = lambda a, b: a ____ b   # Replace ____ with '|'\nbitwise_xor = lambda a, b: a ____ b  # Replace ____ with '^'\nbitwise_not = lambda a: ____ a       # Replace ____ with '~'\n\n# Testing with secret code values\nnumber1 = ____  # assign a secret binary number, e.g., 0b1100\nnumber2 = ____  # assign another secret binary number, e.g., 0b1010\n\nresult_and = bitwise_and(number1, number2)\nresult_or = bitwise_or(number1, number2)\nresult_xor = bitwise_xor(number1, number2)\nresult_not = bitwise_not(number1)\n\nprint(\"AND result:\", result_and)\nprint(\"OR result:\", result_or)\nprint(\"XOR result:\", result_xor)\nprint(\"NOT result:\", result_not)  # Hint: Not operation inverts the binary bits",
      "metadata": {}
    },
    {
      "cell_type": "markdown",
      "source": "Question on Lambda Functions: Fill in the blanks to construct a lambda function that converts binary secret codes in string format to integers.",
      "metadata": {}
    },
    {
      "cell_type": "code",
      "source": "## Use a lambda function to convert a binary string to an integer\nconvert_secret = lambda code: ____(code, ____)  # Replace blanks so that the binary string is converted properly\n\n# List of secret codes as binary strings\nsecret_codes = [\"____\", \"____\", \"____\"]  # Provide sample binary strings like '0b1010'\n\n# Applying the conversion using map and converting to a list\nconverted_codes = list(map(convert_secret, secret_codes))\nprint(\"Converted secret codes:\", converted_codes)  # Hint: Check the int() function and its base parameter",
      "metadata": {}
    },
    {
      "cell_type": "markdown",
      "source": "Question on Polymorphism: Fill in the blanks to implement a base class Creature and its subclasses (Dragon and Unicorn) that override the display_magic method to reflect unique magical transformations using bitwise operations and lambda functions.",
      "metadata": {}
    },
    {
      "cell_type": "code",
      "source": "## Define a base class for creatures\nclass Creature:\n    def __init__(self, secret_code):\n        self.secret_code = secret_code\n    def display_magic(self):\n        # Method to be overridden by subclasses; use secret_code in a generic way\n        return \"Magic: \" + str(____)  # Replace ____ with an expression involving self.secret_code\n\n## Define a subclass for Dragon\nclass Dragon(Creature):\n    def display_magic(self):\n        # Unique magic power for Dragon using a bitwise operation\n        power = self.secret_code ____ 0b1010  # Replace ____ with an appropriate bitwise operator (e.g., ^ for XOR)\n        return \"Dragon magic power: \" + str(power)\n\n## Define a subclass for Unicorn\nclass Unicorn(Creature):\n    def display_magic(self):\n        # Unique magic power for Unicorn using a lambda function to modify the secret code\n        modifier = lambda code: code ____ 0b0101  # Replace ____ with an operator to combine the code, e.g., | for OR\n        power = modifier(self.secret_code)\n        return \"Unicorn magic power: \" + str(power)\n\n# Creating creatures with secret codes\ncreatures = [Dragon(____), Unicorn(____)]  # Replace blanks with sample secret codes, e.g., 0b1111\nfor creature in creatures:\n    print(creature.display_magic())  # Hint: Each subclass should provide its own implementation of display_magic",
      "metadata": {}
    }
  ]
}